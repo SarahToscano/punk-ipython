{
 "cells": [
  {
   "cell_type": "code",
   "execution_count": 2,
   "metadata": {},
   "outputs": [
    {
     "name": "stdout",
     "output_type": "stream",
     "text": [
      "Current progress: 249 / 250\n",
      "[2, 3, 4, 6, 9, 15, 16, 17, 18, 20, 23, 26, 28, 29, 30, 32, 33, 34, 35, 36, 37, 39, 40, 42, 44, 45, 46, 48, 50, 51, 53, 54, 55, 56, 57, 59, 60, 61, 63, 64, 66, 67, 70, 71, 72, 73, 74, 75, 77, 79, 80, 81, 82, 83, 84, 85, 86, 87, 88, 89, 92, 94, 97, 98, 99, 102, 104, 105, 106, 107, 108, 109, 115, 116, 117, 118, 121, 122, 123, 124, 125, 126, 128, 131, 132, 133, 135, 137, 140, 142, 145, 147, 149, 150, 152, 153, 154, 155, 156, 160, 161, 162, 163, 165, 166, 167, 168, 170, 171, 173, 174, 175, 177, 179, 180, 181, 182, 183, 185, 186, 190, 193, 195, 196, 197, 198, 199, 200, 201, 202, 203, 205, 206, 207, 208, 209, 210, 211, 213, 214, 215, 219, 220, 222, 223, 224, 226, 227, 228, 229, 230, 231, 232, 233, 234]\n"
     ]
    }
   ],
   "source": [
    "import requests\n",
    "import json\n",
    "import numpy as np\n",
    "from IPython.display import clear_output\n",
    "\n",
    "idList = []\n",
    "y=250\n",
    "for x in range(0, y):\n",
    "    clear_output(wait=True)\n",
    "    url_api = 'https://api.punkapi.com/v2/beers/random'\n",
    "    response = requests.get(url=url_api, headers = {'Content-Type': 'application/json', 'Accept': 'application/json'})\n",
    "    jsonBeer = json.loads(response.text)[0]\n",
    "    idList.append(jsonBeer['id'])\n",
    "    print(\"Current progress:\",x,\"/\",y)\n",
    "idList = list(set(idList))\n",
    "idList.sort()\n",
    "print(idList)"
   ]
  },
  {
   "cell_type": "code",
   "execution_count": null,
   "metadata": {},
   "outputs": [],
   "source": []
  }
 ],
 "metadata": {
  "kernelspec": {
   "display_name": "Python 3",
   "language": "python",
   "name": "python3"
  },
  "language_info": {
   "codemirror_mode": {
    "name": "ipython",
    "version": 3
   },
   "file_extension": ".py",
   "mimetype": "text/x-python",
   "name": "python",
   "nbconvert_exporter": "python",
   "pygments_lexer": "ipython3",
   "version": "3.6.5"
  }
 },
 "nbformat": 4,
 "nbformat_minor": 2
}
