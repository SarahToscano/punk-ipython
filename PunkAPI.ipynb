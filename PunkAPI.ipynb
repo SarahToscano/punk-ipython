{
 "cells": [
  {
   "cell_type": "code",
   "execution_count": 14,
   "metadata": {
    "scrolled": true
   },
   "outputs": [
    {
     "name": "stdout",
     "output_type": "stream",
     "text": [
      "Current progress: 250 / 250 .  5  beer(s) discovered so far! No beer with ID:  250\n"
     ]
    }
   ],
   "source": [
    "import requests\n",
    "import json\n",
    "import time\n",
    "import pandas as pd\n",
    "from IPython.display import clear_output\n",
    "\n",
    "loop_count = 250\n",
    "beer_count = 0\n",
    "\n",
    "beerDF = pd.DataFrame(columns=['id','name','abv','ph','ibu'])\n",
    "\n",
    "for x in range(230, loop_count+1):\n",
    "    #Use IPython custome clear output to minimise outputs\n",
    "    clear_output(wait=True)\n",
    "    \n",
    "    #Get JSON using URL Request\n",
    "    url_api = 'https://api.punkapi.com/v2/beers/' + str(x)\n",
    "    response = requests.get(url=url_api, headers = {'Content-Type': 'application/json', 'Accept': 'application/json'})\n",
    "    \n",
    "    #If error, API will return differently structured JSON rather than a HTTP error\n",
    "    try:\n",
    "        #Store JSON\n",
    "        json_beer = json.loads(response.text)[0]\n",
    "    except:\n",
    "        #Error - so skip (but show ID with error)\n",
    "        print(\"Current progress:\",x,\"/\",loop_count,\". \",beer_count,\" beer(s) discovered so far! No beer with ID: \",x)\n",
    "        continue\n",
    "        \n",
    "    #Assign beer data into Dictionary for later analysis\n",
    "    beer_list = {}\n",
    "    beer_list['id'] = json_beer['id']\n",
    "    beer_list['name'] = json_beer['name']\n",
    "    beer_list['abv'] = json_beer['abv']\n",
    "    beer_list['ph'] = json_beer['ph']\n",
    "    beer_list['ibu'] = json_beer['ibu']\n",
    "    \n",
    "    #Append to dataframe\n",
    "    beerDF.append(pd.Series(beer_list), ignore_index=True)\n",
    "    df  = pd.DataFrame([beer_list], columns=beer_list.keys())\n",
    "    \n",
    "    #Add beer count\n",
    "    beer_count  += 1\n",
    "    \n",
    "    #Print progress\n",
    "    print(\"Current progress:\",x,\"/\",loop_count,\". \",beer_count,\" beer(s) discovered so far!\")\n",
    "    \n",
    "    #Wait fixed time to prevent API throttling / restricting usage\n",
    "    time.sleep(.75)"
   ]
  },
  {
   "cell_type": "code",
   "execution_count": 15,
   "metadata": {},
   "outputs": [
    {
     "data": {
      "text/html": [
       "<div>\n",
       "<style scoped>\n",
       "    .dataframe tbody tr th:only-of-type {\n",
       "        vertical-align: middle;\n",
       "    }\n",
       "\n",
       "    .dataframe tbody tr th {\n",
       "        vertical-align: top;\n",
       "    }\n",
       "\n",
       "    .dataframe thead th {\n",
       "        text-align: right;\n",
       "    }\n",
       "</style>\n",
       "<table border=\"1\" class=\"dataframe\">\n",
       "  <thead>\n",
       "    <tr style=\"text-align: right;\">\n",
       "      <th></th>\n",
       "      <th>id</th>\n",
       "      <th>name</th>\n",
       "      <th>abv</th>\n",
       "      <th>ph</th>\n",
       "      <th>ibu</th>\n",
       "    </tr>\n",
       "  </thead>\n",
       "  <tbody>\n",
       "  </tbody>\n",
       "</table>\n",
       "</div>"
      ],
      "text/plain": [
       "Empty DataFrame\n",
       "Columns: [id, name, abv, ph, ibu]\n",
       "Index: []"
      ]
     },
     "execution_count": 15,
     "metadata": {},
     "output_type": "execute_result"
    }
   ],
   "source": [
    "beerDF"
   ]
  },
  {
   "cell_type": "code",
   "execution_count": null,
   "metadata": {},
   "outputs": [],
   "source": []
  }
 ],
 "metadata": {
  "kernelspec": {
   "display_name": "Python 3",
   "language": "python",
   "name": "python3"
  },
  "language_info": {
   "codemirror_mode": {
    "name": "ipython",
    "version": 3
   },
   "file_extension": ".py",
   "mimetype": "text/x-python",
   "name": "python",
   "nbconvert_exporter": "python",
   "pygments_lexer": "ipython3",
   "version": "3.6.5"
  }
 },
 "nbformat": 4,
 "nbformat_minor": 2
}
