{
 "cells": [
  {
   "cell_type": "code",
   "execution_count": 67,
   "metadata": {
    "scrolled": true
   },
   "outputs": [
    {
     "name": "stdout",
     "output_type": "stream",
     "text": [
      "Grabbing Punk beer data. Current progress: 250 / 250 .  101  beer(s) discovered so far!\n"
     ]
    }
   ],
   "source": [
    "import requests\n",
    "import json\n",
    "import time\n",
    "import pandas as pd\n",
    "from IPython.display import clear_output\n",
    "\n",
    "loop_count = 250\n",
    "beer_count = 0\n",
    "\n",
    "beer_df = pd.DataFrame(columns=['id','name','abv','ph','ibu', 'first_brewed', 'hops'])\n",
    "\n",
    "for x in range(150, loop_count+1):\n",
    "    #Use IPython custome clear output to minimise outputs\n",
    "    clear_output(wait=True)\n",
    "    \n",
    "    #Get JSON using URL Request\n",
    "    url_api = 'https://api.punkapi.com/v2/beers/' + str(x)\n",
    "    response = requests.get(url=url_api, headers = {'Content-Type': 'application/json', 'Accept': 'application/json'})\n",
    "    \n",
    "    #If error, API will return differently structured JSON rather than a HTTP error\n",
    "    try:\n",
    "        #Store JSON, grabbing first element (due to JSON structure from API)\n",
    "        json_beer = json.loads(response.text)[0]\n",
    "    except:\n",
    "        #Error - so skip (but show ID with error)\n",
    "        print(\"Grabbing Punk beer data. Current progress:\",x,\"/\",loop_count,\". \",beer_count,\" beer(s) discovered so far! No beer with ID: \",x)\n",
    "        continue\n",
    "        \n",
    "    #Assign beer data into Dictionary for later analysis\n",
    "    beer_dict = {}\n",
    "    \n",
    "    #Create lists for hops and yeast\n",
    "    hops_list = []\n",
    "    yeast_list = []\n",
    "    \n",
    "    #Store beer info from JSON\n",
    "    beer_dict['id'] = json_beer['id']\n",
    "    beer_dict['name'] = json_beer['name']\n",
    "    beer_dict['abv'] = json_beer['abv']\n",
    "    beer_dict['ph'] = json_beer['ph']\n",
    "    beer_dict['ibu'] = json_beer['ibu'] \n",
    "    beer_dict['first_brewed'] = json_beer['first_brewed']\n",
    "    \n",
    "    #Use a List comprehension to get all hops types per beer\n",
    "    hops_list = [hop['name'] for hop in json_beer['ingredients']['hops']]\n",
    "    \n",
    "    #Remove hop duplicates (by creating a set) and put into array\n",
    "    hops_list = list(set(hops_list))\n",
    "    beer_dict['hops'] = hops_list\n",
    "    \n",
    "    #Append to dataframe\n",
    "    temp_df  = pd.DataFrame([beer_dict], columns=beer_list.keys())\n",
    "    beer_df = beer_df.append(temp_df)\n",
    "    \n",
    "    #Add beer count\n",
    "    beer_count  += 1\n",
    "    \n",
    "    #Print progress\n",
    "    print(\"Grabbing Punk beer data. Current progress:\",x,\"/\",loop_count,\". \",beer_count,\" beer(s) discovered so far!\")\n",
    "    \n",
    "    #Wait fixed time to prevent API throttling / restricting usage\n",
    "    time.sleep(.75)\n",
    "\n",
    "#Reset index of Dataframe (ensuring that old index doesn't get added as a column)\n",
    "beer_df = beer_df.reset_index(drop=True)"
   ]
  },
  {
   "cell_type": "code",
   "execution_count": 99,
   "metadata": {},
   "outputs": [
    {
     "name": "stdout",
     "output_type": "stream",
     "text": [
      "Hops dataframe completed!\n"
     ]
    }
   ],
   "source": [
    "import pandas as pd\n",
    "\n",
    "#Create new dataframe to understand hops brewed by year\n",
    "hops_df = pd.DataFrame(columns=['name', 'year'])\n",
    "\n",
    "#Iterate each row in the raw beer dataframe\n",
    "for index, row in beer_df.iterrows():\n",
    "    \n",
    "    #As multiple hops can be in one brew, second loop to iterate through list within beer dataframe row\n",
    "    for hop_name in row['hops']:\n",
    "        \n",
    "        #Create temporary dictionary to be used to append to the hops dataframe\n",
    "        temp_dict = {}\n",
    "\n",
    "        #Get name of hop\n",
    "        temp_dict['name'] = hop_name\n",
    "        \n",
    "        #Get year of brew, difficulty here is inconsistent formatting in data (sometimes MM/YYYY or YYYY)\n",
    "        #Therefore search for \"/\" and split if required \n",
    "        temp_dict['year'] = beer_df.loc[index, 'first_brewed']\n",
    "        if \"/\" in temp_dict['year']:\n",
    "            temp_dict['year'] = temp_dict['year'].split(\"/\")[1]\n",
    "            \n",
    "        #Append temperorary dictionary to hops dataframe\n",
    "        temp_df  = pd.DataFrame([temp_dict], columns=hops_df.keys())\n",
    "        hops_df = hops_df.append(temp_df)\n",
    "\n",
    "#Reset index of Dataframe (ensuring that old index doesn't get added as a column)\n",
    "hops_df = hops_df.reset_index(drop=True)  \n",
    "\n",
    "#Change hops dataframe structure - years as columns and hop name as index\n",
    "hops_df = pd.crosstab(index=hops_df['name'], columns=hops_df['year'])\n",
    "\n",
    "#Reset index of dataframe to ensure name is a column (as well as index name)\n",
    "hops_df = hops_df.reset_index()\n",
    "\n",
    "#Print progress\n",
    "print(\"Hops dataframe completed!\")"
   ]
  },
  {
   "cell_type": "code",
   "execution_count": 149,
   "metadata": {
    "scrolled": false
   },
   "outputs": [],
   "source": [
    "import plotly.plotly as py\n",
    "from plotly.grid_objs import Grid, Column\n",
    "from plotly.tools import FigureFactory as FF\n",
    "\n",
    "#Get list of years required for slider (removing first item as it is 'Name')\n",
    "years = list(hops_df)[1:]\n",
    "\n",
    "#Get list of hops names\n",
    "hops = hops_df['name'].tolist()"
   ]
  },
  {
   "cell_type": "code",
   "execution_count": 150,
   "metadata": {},
   "outputs": [
    {
     "name": "stdout",
     "output_type": "stream",
     "text": [
      "https://plot.ly/~cjmcguicken/10/\n"
     ]
    }
   ],
   "source": [
    "#Create and upload required grid to Plotly\n",
    "grid = Grid(hops_df)\n",
    "url = py.grid_ops.upload(grid, 'gapminder_grid'+str(time.time()), auto_open=False)\n",
    "print(url)\n",
    "\n",
    "#Create figure dictionary\n",
    "figure = {\n",
    "    'data': [],\n",
    "    'layout': {},\n",
    "    'frames': [],\n",
    "    'config': {'scrollzoom': True}\n",
    "}\n",
    "\n",
    "#Fill in layout details (via Figure dictionairy)\n",
    "figure['layout']['xaxis'] = {'title': 'Hop', 'gridcolor': '#FFFFFF'}\n",
    "figure['layout']['yaxis'] = {'title': 'Number of Times in a Brew', 'gridcolor': '#FFFFFF'}\n",
    "figure['layout']['hovermode'] = 'closest'\n",
    "figure['layout']['plot_bgcolor'] = 'rgb(223, 232, 243)'\n",
    "figure['layout']['title'] = 'Brewdog Hop Choice per Year'\n",
    "\n",
    "#Create slider dictionairy\n",
    "sliders_dict = {\n",
    "    'active': 0,\n",
    "    'yanchor': 'top',\n",
    "    'xanchor': 'left',\n",
    "    'currentvalue': {\n",
    "        'font': {'size': 20},\n",
    "        'prefix': 'Year:',\n",
    "        'visible': True,\n",
    "        'xanchor': 'right'\n",
    "    },\n",
    "    'transition': {'duration': 300, 'easing': 'cubic-in-out'},\n",
    "    'pad': {'b': 10, 't': 50},\n",
    "    'len': 0.9,\n",
    "    'x': 0.1,\n",
    "    'y': 0,\n",
    "    'steps': []\n",
    "}\n",
    "\n",
    "#Add play and pause buttons by updating Layout\n",
    "figure['layout']['updatemenus'] = [\n",
    "    {\n",
    "        'buttons': [\n",
    "            {\n",
    "                'args': [None, {'frame': {'duration': 500, 'redraw': False},\n",
    "                         'fromcurrent': True, 'transition': {'duration': 300, 'easing': 'quadratic-in-out'}}],\n",
    "                'label': 'Play',\n",
    "                'method': 'animate'\n",
    "            },\n",
    "            {\n",
    "                'args': [[None], {'frame': {'duration': 0, 'redraw': False}, 'mode': 'immediate',\n",
    "                'transition': {'duration': 0}}],\n",
    "                'label': 'Pause',\n",
    "                'method': 'animate'\n",
    "            }\n",
    "        ],\n",
    "        'direction': 'left',\n",
    "        'pad': {'r': 10, 't': 87},\n",
    "        'showactive': False,\n",
    "        'type': 'buttons',\n",
    "        'x': 0.1,\n",
    "        'xanchor': 'right',\n",
    "        'y': 0,\n",
    "        'yanchor': 'top'\n",
    "    }\n",
    "]"
   ]
  },
  {
   "cell_type": "code",
   "execution_count": 155,
   "metadata": {},
   "outputs": [],
   "source": [
    "col_name_template = '{column}'\n",
    "for year in years:\n",
    "    frame = {'data': [], 'name': str(year)}\n",
    "    x_list = []\n",
    "    y_list = []\n",
    "    \n",
    "    for hop in hops:\n",
    "        x_list.append(grid.get_column_reference(col_name_template.format(column='name')))\n",
    "        y_list.append(grid.get_column_reference(col_name_template.format(column=year)))\n",
    "     \n",
    "    frame['data'].append(go.Bar(\n",
    "            x=x_list,\n",
    "            y=y_list\n",
    "    ))\n",
    "\n",
    "    figure['frames'].append(frame)\n",
    "    slider_step = {'args': [\n",
    "        [year],\n",
    "        {'frame': {'duration': 300, 'redraw': False},\n",
    "         'mode': 'immediate',\n",
    "       'transition': {'duration': 300}}\n",
    "     ],\n",
    "     'label': year,\n",
    "     'method': 'animate'}\n",
    "    sliders_dict['steps'].append(slider_step)\n",
    "\n",
    "figure['layout']['sliders'] = [sliders_dict]"
   ]
  },
  {
   "cell_type": "code",
   "execution_count": 156,
   "metadata": {},
   "outputs": [
    {
     "ename": "PlotlyRequestError",
     "evalue": "Figure field is invalid. Reason: Raw data arrays are not allowed at this endpoint. Use grid references instead. Raw data found at the following paths in the figure [('frames', 0, 'data', 0, 'x'), ('frames', 0, 'data', 0, 'y'), ('frames', 1, 'data', 0, 'x'), ('frames', 1, 'data', 0, 'y'), ('frames', 2, 'data', 0, 'x'), ('frames', 2, 'data', 0, 'y'), ('frames', 3, 'data', 0, 'x'), ('frames', 3, 'data', 0, 'y'), ('frames', 4, 'data', 0, 'x'), ('frames', 4, 'data', 0, 'y'), ('frames', 5, 'data', 0, 'x'), ('frames', 5, 'data', 0, 'y'), ('frames', 6, 'data', 0, 'x'), ('frames', 6, 'data', 0, 'y'), ('frames', 7, 'data', 0, 'x'), ('frames', 7, 'data', 0, 'y'), ('frames', 8, 'data', 0, 'x'), ('frames', 8, 'data', 0, 'y'), ('frames', 9, 'data', 0, 'x'), ('frames', 9, 'data', 0, 'y'), ('frames', 10, 'data', 0, 'x'), ('frames', 10, 'data', 0, 'y'), ('frames', 11, 'data', 0, 'x'), ('frames', 11, 'data', 0, 'y'), ('frames', 12, 'data', 0, 'x'), ('frames', 12, 'data', 0, 'y'), ('frames', 13, 'data', 0, 'x'), ('frames', 13, 'data', 0, 'y'), ('frames', 14, 'data', 0, 'x'), ('frames', 14, 'data', 0, 'y'), ('frames', 15, 'data', 0, 'x'), ('frames', 15, 'data', 0, 'y'), ('frames', 16, 'data', 0, 'x'), ('frames', 16, 'data', 0, 'y'), ('frames', 17, 'data', 0, 'x'), ('frames', 17, 'data', 0, 'y'), ('frames', 18, 'data', 0, 'x'), ('frames', 18, 'data', 0, 'y'), ('frames', 19, 'data', 0, 'x'), ('frames', 19, 'data', 0, 'y'), ('frames', 20, 'data', 0, 'x'), ('frames', 20, 'data', 0, 'y'), ('frames', 21, 'data', 0, 'x'), ('frames', 21, 'data', 0, 'y'), ('frames', 22, 'data', 0, 'x'), ('frames', 22, 'data', 0, 'y'), ('frames', 23, 'data', 0, 'x'), ('frames', 23, 'data', 0, 'y'), ('frames', 24, 'data', 0, 'x'), ('frames', 24, 'data', 0, 'y'), ('frames', 25, 'data', 0, 'x'), ('frames', 25, 'data', 0, 'y'), ('frames', 26, 'data', 0, 'x'), ('frames', 26, 'data', 0, 'y'), ('frames', 27, 'data', 0, 'x'), ('frames', 27, 'data', 0, 'y'), ('frames', 28, 'data', 0, 'x'), ('frames', 28, 'data', 0, 'y'), ('frames', 29, 'data', 0, 'x'), ('frames', 29, 'data', 0, 'y')]",
     "output_type": "error",
     "traceback": [
      "\u001b[1;31m---------------------------------------------------------------------------\u001b[0m",
      "\u001b[1;31mPlotlyRequestError\u001b[0m                        Traceback (most recent call last)",
      "\u001b[1;32m<ipython-input-156-daae7c5c6206>\u001b[0m in \u001b[0;36m<module>\u001b[1;34m\u001b[0m\n\u001b[1;32m----> 1\u001b[1;33m \u001b[0mpy\u001b[0m\u001b[1;33m.\u001b[0m\u001b[0micreate_animations\u001b[0m\u001b[1;33m(\u001b[0m\u001b[0mfigure\u001b[0m\u001b[1;33m,\u001b[0m \u001b[1;34m'gapminder_example'\u001b[0m\u001b[1;33m+\u001b[0m\u001b[0mstr\u001b[0m\u001b[1;33m(\u001b[0m\u001b[0mtime\u001b[0m\u001b[1;33m.\u001b[0m\u001b[0mtime\u001b[0m\u001b[1;33m(\u001b[0m\u001b[1;33m)\u001b[0m\u001b[1;33m)\u001b[0m\u001b[1;33m)\u001b[0m\u001b[1;33m\u001b[0m\u001b[0m\n\u001b[0m",
      "\u001b[1;32mc:\\users\\calum mcguicken\\documents\\python\\lib\\site-packages\\plotly\\plotly\\plotly.py\u001b[0m in \u001b[0;36micreate_animations\u001b[1;34m(figure, filename, sharing, auto_open)\u001b[0m\n\u001b[0;32m   1825\u001b[0m     \u001b[0mcreate_animations\u001b[0m\u001b[0;31m`\u001b[0m \u001b[0mDoc\u001b[0m \u001b[0mString\u001b[0m \u001b[1;32mfor\u001b[0m \u001b[0mparam\u001b[0m \u001b[0mdescriptions\u001b[0m\u001b[1;33m.\u001b[0m\u001b[1;33m\u001b[0m\u001b[0m\n\u001b[0;32m   1826\u001b[0m     \"\"\"\n\u001b[1;32m-> 1827\u001b[1;33m     \u001b[0murl\u001b[0m \u001b[1;33m=\u001b[0m \u001b[0mcreate_animations\u001b[0m\u001b[1;33m(\u001b[0m\u001b[0mfigure\u001b[0m\u001b[1;33m,\u001b[0m \u001b[0mfilename\u001b[0m\u001b[1;33m,\u001b[0m \u001b[0msharing\u001b[0m\u001b[1;33m,\u001b[0m \u001b[0mauto_open\u001b[0m\u001b[1;33m)\u001b[0m\u001b[1;33m\u001b[0m\u001b[0m\n\u001b[0m\u001b[0;32m   1828\u001b[0m \u001b[1;33m\u001b[0m\u001b[0m\n\u001b[0;32m   1829\u001b[0m     \u001b[1;32mif\u001b[0m \u001b[0misinstance\u001b[0m\u001b[1;33m(\u001b[0m\u001b[0mfigure\u001b[0m\u001b[1;33m,\u001b[0m \u001b[0mdict\u001b[0m\u001b[1;33m)\u001b[0m\u001b[1;33m:\u001b[0m\u001b[1;33m\u001b[0m\u001b[0m\n",
      "\u001b[1;32mc:\\users\\calum mcguicken\\documents\\python\\lib\\site-packages\\plotly\\plotly\\plotly.py\u001b[0m in \u001b[0;36mcreate_animations\u001b[1;34m(figure, filename, sharing, auto_open)\u001b[0m\n\u001b[0;32m   1803\u001b[0m         )\n\u001b[0;32m   1804\u001b[0m \u001b[1;33m\u001b[0m\u001b[0m\n\u001b[1;32m-> 1805\u001b[1;33m     \u001b[0mresponse\u001b[0m \u001b[1;33m=\u001b[0m \u001b[0mv2\u001b[0m\u001b[1;33m.\u001b[0m\u001b[0mplots\u001b[0m\u001b[1;33m.\u001b[0m\u001b[0mcreate\u001b[0m\u001b[1;33m(\u001b[0m\u001b[0mbody\u001b[0m\u001b[1;33m)\u001b[0m\u001b[1;33m\u001b[0m\u001b[0m\n\u001b[0m\u001b[0;32m   1806\u001b[0m     \u001b[0mparsed_content\u001b[0m \u001b[1;33m=\u001b[0m \u001b[0mresponse\u001b[0m\u001b[1;33m.\u001b[0m\u001b[0mjson\u001b[0m\u001b[1;33m(\u001b[0m\u001b[1;33m)\u001b[0m\u001b[1;33m\u001b[0m\u001b[0m\n\u001b[0;32m   1807\u001b[0m \u001b[1;33m\u001b[0m\u001b[0m\n",
      "\u001b[1;32mc:\\users\\calum mcguicken\\documents\\python\\lib\\site-packages\\plotly\\api\\v2\\plots.py\u001b[0m in \u001b[0;36mcreate\u001b[1;34m(body)\u001b[0m\n\u001b[0;32m     16\u001b[0m     \"\"\"\n\u001b[0;32m     17\u001b[0m     \u001b[0murl\u001b[0m \u001b[1;33m=\u001b[0m \u001b[0mbuild_url\u001b[0m\u001b[1;33m(\u001b[0m\u001b[0mRESOURCE\u001b[0m\u001b[1;33m)\u001b[0m\u001b[1;33m\u001b[0m\u001b[0m\n\u001b[1;32m---> 18\u001b[1;33m     \u001b[1;32mreturn\u001b[0m \u001b[0mrequest\u001b[0m\u001b[1;33m(\u001b[0m\u001b[1;34m'post'\u001b[0m\u001b[1;33m,\u001b[0m \u001b[0murl\u001b[0m\u001b[1;33m,\u001b[0m \u001b[0mjson\u001b[0m\u001b[1;33m=\u001b[0m\u001b[0mbody\u001b[0m\u001b[1;33m)\u001b[0m\u001b[1;33m\u001b[0m\u001b[0m\n\u001b[0m\u001b[0;32m     19\u001b[0m \u001b[1;33m\u001b[0m\u001b[0m\n\u001b[0;32m     20\u001b[0m \u001b[1;33m\u001b[0m\u001b[0m\n",
      "\u001b[1;32mc:\\users\\calum mcguicken\\documents\\python\\lib\\site-packages\\retrying.py\u001b[0m in \u001b[0;36mwrapped_f\u001b[1;34m(*args, **kw)\u001b[0m\n\u001b[0;32m     47\u001b[0m             \u001b[1;33m@\u001b[0m\u001b[0msix\u001b[0m\u001b[1;33m.\u001b[0m\u001b[0mwraps\u001b[0m\u001b[1;33m(\u001b[0m\u001b[0mf\u001b[0m\u001b[1;33m)\u001b[0m\u001b[1;33m\u001b[0m\u001b[0m\n\u001b[0;32m     48\u001b[0m             \u001b[1;32mdef\u001b[0m \u001b[0mwrapped_f\u001b[0m\u001b[1;33m(\u001b[0m\u001b[1;33m*\u001b[0m\u001b[0margs\u001b[0m\u001b[1;33m,\u001b[0m \u001b[1;33m**\u001b[0m\u001b[0mkw\u001b[0m\u001b[1;33m)\u001b[0m\u001b[1;33m:\u001b[0m\u001b[1;33m\u001b[0m\u001b[0m\n\u001b[1;32m---> 49\u001b[1;33m                 \u001b[1;32mreturn\u001b[0m \u001b[0mRetrying\u001b[0m\u001b[1;33m(\u001b[0m\u001b[1;33m*\u001b[0m\u001b[0mdargs\u001b[0m\u001b[1;33m,\u001b[0m \u001b[1;33m**\u001b[0m\u001b[0mdkw\u001b[0m\u001b[1;33m)\u001b[0m\u001b[1;33m.\u001b[0m\u001b[0mcall\u001b[0m\u001b[1;33m(\u001b[0m\u001b[0mf\u001b[0m\u001b[1;33m,\u001b[0m \u001b[1;33m*\u001b[0m\u001b[0margs\u001b[0m\u001b[1;33m,\u001b[0m \u001b[1;33m**\u001b[0m\u001b[0mkw\u001b[0m\u001b[1;33m)\u001b[0m\u001b[1;33m\u001b[0m\u001b[0m\n\u001b[0m\u001b[0;32m     50\u001b[0m \u001b[1;33m\u001b[0m\u001b[0m\n\u001b[0;32m     51\u001b[0m             \u001b[1;32mreturn\u001b[0m \u001b[0mwrapped_f\u001b[0m\u001b[1;33m\u001b[0m\u001b[0m\n",
      "\u001b[1;32mc:\\users\\calum mcguicken\\documents\\python\\lib\\site-packages\\retrying.py\u001b[0m in \u001b[0;36mcall\u001b[1;34m(self, fn, *args, **kwargs)\u001b[0m\n\u001b[0;32m    204\u001b[0m \u001b[1;33m\u001b[0m\u001b[0m\n\u001b[0;32m    205\u001b[0m             \u001b[1;32mif\u001b[0m \u001b[1;32mnot\u001b[0m \u001b[0mself\u001b[0m\u001b[1;33m.\u001b[0m\u001b[0mshould_reject\u001b[0m\u001b[1;33m(\u001b[0m\u001b[0mattempt\u001b[0m\u001b[1;33m)\u001b[0m\u001b[1;33m:\u001b[0m\u001b[1;33m\u001b[0m\u001b[0m\n\u001b[1;32m--> 206\u001b[1;33m                 \u001b[1;32mreturn\u001b[0m \u001b[0mattempt\u001b[0m\u001b[1;33m.\u001b[0m\u001b[0mget\u001b[0m\u001b[1;33m(\u001b[0m\u001b[0mself\u001b[0m\u001b[1;33m.\u001b[0m\u001b[0m_wrap_exception\u001b[0m\u001b[1;33m)\u001b[0m\u001b[1;33m\u001b[0m\u001b[0m\n\u001b[0m\u001b[0;32m    207\u001b[0m \u001b[1;33m\u001b[0m\u001b[0m\n\u001b[0;32m    208\u001b[0m             \u001b[0mdelay_since_first_attempt_ms\u001b[0m \u001b[1;33m=\u001b[0m \u001b[0mint\u001b[0m\u001b[1;33m(\u001b[0m\u001b[0mround\u001b[0m\u001b[1;33m(\u001b[0m\u001b[0mtime\u001b[0m\u001b[1;33m.\u001b[0m\u001b[0mtime\u001b[0m\u001b[1;33m(\u001b[0m\u001b[1;33m)\u001b[0m \u001b[1;33m*\u001b[0m \u001b[1;36m1000\u001b[0m\u001b[1;33m)\u001b[0m\u001b[1;33m)\u001b[0m \u001b[1;33m-\u001b[0m \u001b[0mstart_time\u001b[0m\u001b[1;33m\u001b[0m\u001b[0m\n",
      "\u001b[1;32mc:\\users\\calum mcguicken\\documents\\python\\lib\\site-packages\\retrying.py\u001b[0m in \u001b[0;36mget\u001b[1;34m(self, wrap_exception)\u001b[0m\n\u001b[0;32m    245\u001b[0m                 \u001b[1;32mraise\u001b[0m \u001b[0mRetryError\u001b[0m\u001b[1;33m(\u001b[0m\u001b[0mself\u001b[0m\u001b[1;33m)\u001b[0m\u001b[1;33m\u001b[0m\u001b[0m\n\u001b[0;32m    246\u001b[0m             \u001b[1;32melse\u001b[0m\u001b[1;33m:\u001b[0m\u001b[1;33m\u001b[0m\u001b[0m\n\u001b[1;32m--> 247\u001b[1;33m                 \u001b[0msix\u001b[0m\u001b[1;33m.\u001b[0m\u001b[0mreraise\u001b[0m\u001b[1;33m(\u001b[0m\u001b[0mself\u001b[0m\u001b[1;33m.\u001b[0m\u001b[0mvalue\u001b[0m\u001b[1;33m[\u001b[0m\u001b[1;36m0\u001b[0m\u001b[1;33m]\u001b[0m\u001b[1;33m,\u001b[0m \u001b[0mself\u001b[0m\u001b[1;33m.\u001b[0m\u001b[0mvalue\u001b[0m\u001b[1;33m[\u001b[0m\u001b[1;36m1\u001b[0m\u001b[1;33m]\u001b[0m\u001b[1;33m,\u001b[0m \u001b[0mself\u001b[0m\u001b[1;33m.\u001b[0m\u001b[0mvalue\u001b[0m\u001b[1;33m[\u001b[0m\u001b[1;36m2\u001b[0m\u001b[1;33m]\u001b[0m\u001b[1;33m)\u001b[0m\u001b[1;33m\u001b[0m\u001b[0m\n\u001b[0m\u001b[0;32m    248\u001b[0m         \u001b[1;32melse\u001b[0m\u001b[1;33m:\u001b[0m\u001b[1;33m\u001b[0m\u001b[0m\n\u001b[0;32m    249\u001b[0m             \u001b[1;32mreturn\u001b[0m \u001b[0mself\u001b[0m\u001b[1;33m.\u001b[0m\u001b[0mvalue\u001b[0m\u001b[1;33m\u001b[0m\u001b[0m\n",
      "\u001b[1;32mc:\\users\\calum mcguicken\\documents\\python\\lib\\site-packages\\six.py\u001b[0m in \u001b[0;36mreraise\u001b[1;34m(tp, value, tb)\u001b[0m\n\u001b[0;32m    691\u001b[0m             \u001b[1;32mif\u001b[0m \u001b[0mvalue\u001b[0m\u001b[1;33m.\u001b[0m\u001b[0m__traceback__\u001b[0m \u001b[1;32mis\u001b[0m \u001b[1;32mnot\u001b[0m \u001b[0mtb\u001b[0m\u001b[1;33m:\u001b[0m\u001b[1;33m\u001b[0m\u001b[0m\n\u001b[0;32m    692\u001b[0m                 \u001b[1;32mraise\u001b[0m \u001b[0mvalue\u001b[0m\u001b[1;33m.\u001b[0m\u001b[0mwith_traceback\u001b[0m\u001b[1;33m(\u001b[0m\u001b[0mtb\u001b[0m\u001b[1;33m)\u001b[0m\u001b[1;33m\u001b[0m\u001b[0m\n\u001b[1;32m--> 693\u001b[1;33m             \u001b[1;32mraise\u001b[0m \u001b[0mvalue\u001b[0m\u001b[1;33m\u001b[0m\u001b[0m\n\u001b[0m\u001b[0;32m    694\u001b[0m         \u001b[1;32mfinally\u001b[0m\u001b[1;33m:\u001b[0m\u001b[1;33m\u001b[0m\u001b[0m\n\u001b[0;32m    695\u001b[0m             \u001b[0mvalue\u001b[0m \u001b[1;33m=\u001b[0m \u001b[1;32mNone\u001b[0m\u001b[1;33m\u001b[0m\u001b[0m\n",
      "\u001b[1;32mc:\\users\\calum mcguicken\\documents\\python\\lib\\site-packages\\retrying.py\u001b[0m in \u001b[0;36mcall\u001b[1;34m(self, fn, *args, **kwargs)\u001b[0m\n\u001b[0;32m    198\u001b[0m         \u001b[1;32mwhile\u001b[0m \u001b[1;32mTrue\u001b[0m\u001b[1;33m:\u001b[0m\u001b[1;33m\u001b[0m\u001b[0m\n\u001b[0;32m    199\u001b[0m             \u001b[1;32mtry\u001b[0m\u001b[1;33m:\u001b[0m\u001b[1;33m\u001b[0m\u001b[0m\n\u001b[1;32m--> 200\u001b[1;33m                 \u001b[0mattempt\u001b[0m \u001b[1;33m=\u001b[0m \u001b[0mAttempt\u001b[0m\u001b[1;33m(\u001b[0m\u001b[0mfn\u001b[0m\u001b[1;33m(\u001b[0m\u001b[1;33m*\u001b[0m\u001b[0margs\u001b[0m\u001b[1;33m,\u001b[0m \u001b[1;33m**\u001b[0m\u001b[0mkwargs\u001b[0m\u001b[1;33m)\u001b[0m\u001b[1;33m,\u001b[0m \u001b[0mattempt_number\u001b[0m\u001b[1;33m,\u001b[0m \u001b[1;32mFalse\u001b[0m\u001b[1;33m)\u001b[0m\u001b[1;33m\u001b[0m\u001b[0m\n\u001b[0m\u001b[0;32m    201\u001b[0m             \u001b[1;32mexcept\u001b[0m\u001b[1;33m:\u001b[0m\u001b[1;33m\u001b[0m\u001b[0m\n\u001b[0;32m    202\u001b[0m                 \u001b[0mtb\u001b[0m \u001b[1;33m=\u001b[0m \u001b[0msys\u001b[0m\u001b[1;33m.\u001b[0m\u001b[0mexc_info\u001b[0m\u001b[1;33m(\u001b[0m\u001b[1;33m)\u001b[0m\u001b[1;33m\u001b[0m\u001b[0m\n",
      "\u001b[1;32mc:\\users\\calum mcguicken\\documents\\python\\lib\\site-packages\\plotly\\api\\v2\\utils.py\u001b[0m in \u001b[0;36mrequest\u001b[1;34m(method, url, **kwargs)\u001b[0m\n\u001b[0;32m    165\u001b[0m         \u001b[0mcontent\u001b[0m \u001b[1;33m=\u001b[0m \u001b[0mresponse\u001b[0m\u001b[1;33m.\u001b[0m\u001b[0mcontent\u001b[0m \u001b[1;32mif\u001b[0m \u001b[0mresponse\u001b[0m \u001b[1;32melse\u001b[0m \u001b[1;34m'No content'\u001b[0m\u001b[1;33m\u001b[0m\u001b[0m\n\u001b[0;32m    166\u001b[0m         \u001b[1;32mraise\u001b[0m \u001b[0mexceptions\u001b[0m\u001b[1;33m.\u001b[0m\u001b[0mPlotlyRequestError\u001b[0m\u001b[1;33m(\u001b[0m\u001b[0mmessage\u001b[0m\u001b[1;33m,\u001b[0m \u001b[0mstatus_code\u001b[0m\u001b[1;33m,\u001b[0m \u001b[0mcontent\u001b[0m\u001b[1;33m)\u001b[0m\u001b[1;33m\u001b[0m\u001b[0m\n\u001b[1;32m--> 167\u001b[1;33m     \u001b[0mvalidate_response\u001b[0m\u001b[1;33m(\u001b[0m\u001b[0mresponse\u001b[0m\u001b[1;33m)\u001b[0m\u001b[1;33m\u001b[0m\u001b[0m\n\u001b[0m\u001b[0;32m    168\u001b[0m     \u001b[1;32mreturn\u001b[0m \u001b[0mresponse\u001b[0m\u001b[1;33m\u001b[0m\u001b[0m\n",
      "\u001b[1;32mc:\\users\\calum mcguicken\\documents\\python\\lib\\site-packages\\plotly\\api\\v2\\utils.py\u001b[0m in \u001b[0;36mvalidate_response\u001b[1;34m(response)\u001b[0m\n\u001b[0;32m     77\u001b[0m         \u001b[0mmessage\u001b[0m \u001b[1;33m=\u001b[0m \u001b[0mcontent\u001b[0m \u001b[1;32mif\u001b[0m \u001b[0mcontent\u001b[0m \u001b[1;32melse\u001b[0m \u001b[1;34m'No Content'\u001b[0m\u001b[1;33m\u001b[0m\u001b[0m\n\u001b[0;32m     78\u001b[0m \u001b[1;33m\u001b[0m\u001b[0m\n\u001b[1;32m---> 79\u001b[1;33m     \u001b[1;32mraise\u001b[0m \u001b[0mexceptions\u001b[0m\u001b[1;33m.\u001b[0m\u001b[0mPlotlyRequestError\u001b[0m\u001b[1;33m(\u001b[0m\u001b[0mmessage\u001b[0m\u001b[1;33m,\u001b[0m \u001b[0mstatus_code\u001b[0m\u001b[1;33m,\u001b[0m \u001b[0mcontent\u001b[0m\u001b[1;33m)\u001b[0m\u001b[1;33m\u001b[0m\u001b[0m\n\u001b[0m\u001b[0;32m     80\u001b[0m \u001b[1;33m\u001b[0m\u001b[0m\n\u001b[0;32m     81\u001b[0m \u001b[1;33m\u001b[0m\u001b[0m\n",
      "\u001b[1;31mPlotlyRequestError\u001b[0m: Figure field is invalid. Reason: Raw data arrays are not allowed at this endpoint. Use grid references instead. Raw data found at the following paths in the figure [('frames', 0, 'data', 0, 'x'), ('frames', 0, 'data', 0, 'y'), ('frames', 1, 'data', 0, 'x'), ('frames', 1, 'data', 0, 'y'), ('frames', 2, 'data', 0, 'x'), ('frames', 2, 'data', 0, 'y'), ('frames', 3, 'data', 0, 'x'), ('frames', 3, 'data', 0, 'y'), ('frames', 4, 'data', 0, 'x'), ('frames', 4, 'data', 0, 'y'), ('frames', 5, 'data', 0, 'x'), ('frames', 5, 'data', 0, 'y'), ('frames', 6, 'data', 0, 'x'), ('frames', 6, 'data', 0, 'y'), ('frames', 7, 'data', 0, 'x'), ('frames', 7, 'data', 0, 'y'), ('frames', 8, 'data', 0, 'x'), ('frames', 8, 'data', 0, 'y'), ('frames', 9, 'data', 0, 'x'), ('frames', 9, 'data', 0, 'y'), ('frames', 10, 'data', 0, 'x'), ('frames', 10, 'data', 0, 'y'), ('frames', 11, 'data', 0, 'x'), ('frames', 11, 'data', 0, 'y'), ('frames', 12, 'data', 0, 'x'), ('frames', 12, 'data', 0, 'y'), ('frames', 13, 'data', 0, 'x'), ('frames', 13, 'data', 0, 'y'), ('frames', 14, 'data', 0, 'x'), ('frames', 14, 'data', 0, 'y'), ('frames', 15, 'data', 0, 'x'), ('frames', 15, 'data', 0, 'y'), ('frames', 16, 'data', 0, 'x'), ('frames', 16, 'data', 0, 'y'), ('frames', 17, 'data', 0, 'x'), ('frames', 17, 'data', 0, 'y'), ('frames', 18, 'data', 0, 'x'), ('frames', 18, 'data', 0, 'y'), ('frames', 19, 'data', 0, 'x'), ('frames', 19, 'data', 0, 'y'), ('frames', 20, 'data', 0, 'x'), ('frames', 20, 'data', 0, 'y'), ('frames', 21, 'data', 0, 'x'), ('frames', 21, 'data', 0, 'y'), ('frames', 22, 'data', 0, 'x'), ('frames', 22, 'data', 0, 'y'), ('frames', 23, 'data', 0, 'x'), ('frames', 23, 'data', 0, 'y'), ('frames', 24, 'data', 0, 'x'), ('frames', 24, 'data', 0, 'y'), ('frames', 25, 'data', 0, 'x'), ('frames', 25, 'data', 0, 'y'), ('frames', 26, 'data', 0, 'x'), ('frames', 26, 'data', 0, 'y'), ('frames', 27, 'data', 0, 'x'), ('frames', 27, 'data', 0, 'y'), ('frames', 28, 'data', 0, 'x'), ('frames', 28, 'data', 0, 'y'), ('frames', 29, 'data', 0, 'x'), ('frames', 29, 'data', 0, 'y')]"
     ]
    }
   ],
   "source": [
    "py.icreate_animations(figure, 'barchart example')"
   ]
  },
  {
   "cell_type": "code",
   "execution_count": null,
   "metadata": {},
   "outputs": [],
   "source": []
  }
 ],
 "metadata": {
  "kernelspec": {
   "display_name": "Python 3",
   "language": "python",
   "name": "python3"
  },
  "language_info": {
   "codemirror_mode": {
    "name": "ipython",
    "version": 3
   },
   "file_extension": ".py",
   "mimetype": "text/x-python",
   "name": "python",
   "nbconvert_exporter": "python",
   "pygments_lexer": "ipython3",
   "version": "3.6.5"
  }
 },
 "nbformat": 4,
 "nbformat_minor": 2
}
