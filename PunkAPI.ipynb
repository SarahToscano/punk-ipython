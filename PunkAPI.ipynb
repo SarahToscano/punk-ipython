{
 "cells": [
  {
   "cell_type": "code",
   "execution_count": 15,
   "metadata": {
    "scrolled": true
   },
   "outputs": [
    {
     "name": "stdout",
     "output_type": "stream",
     "text": [
      "Grabbing Punk beer data. Current progress: 250 / 250 .  5  beer(s) discovered so far! No beer with ID:  250\n"
     ]
    }
   ],
   "source": [
    "import requests\n",
    "import json\n",
    "import time\n",
    "import pandas as pd\n",
    "from IPython.display import clear_output\n",
    "\n",
    "loop_count = 250\n",
    "beer_count = 0\n",
    "\n",
    "beer_df = pd.DataFrame(columns=['id','name','abv','ph','ibu', 'first_brewed', 'hops'])\n",
    "\n",
    "for x in range(230, loop_count+1):\n",
    "    #Use IPython custome clear output to minimise outputs\n",
    "    clear_output(wait=True)\n",
    "    \n",
    "    #Get JSON using URL Request\n",
    "    url_api = 'https://api.punkapi.com/v2/beers/' + str(x)\n",
    "    response = requests.get(url=url_api, headers = {'Content-Type': 'application/json', 'Accept': 'application/json'})\n",
    "    \n",
    "    #If error, API will return differently structured JSON rather than a HTTP error\n",
    "    try:\n",
    "        #Store JSON\n",
    "        json_beer = json.loads(response.text)[0]\n",
    "    except:\n",
    "        #Error - so skip (but show ID with error)\n",
    "        print(\"Grabbing Punk beer data. Current progress:\",x,\"/\",loop_count,\". \",beer_count,\" beer(s) discovered so far! No beer with ID: \",x)\n",
    "        continue\n",
    "        \n",
    "    #Assign beer data into Dictionary for later analysis\n",
    "    beer_list = {}\n",
    "    hops_list = []\n",
    "    beer_list['id'] = json_beer['id']\n",
    "    beer_list['name'] = json_beer['name']\n",
    "    beer_list['abv'] = json_beer['abv']\n",
    "    beer_list['ph'] = json_beer['ph']\n",
    "    beer_list['ibu'] = json_beer['ibu'] \n",
    "    beer_list['first_brewed'] = json_beer['first_brewed']\n",
    "    for hop in json_beer['ingredients']['hops']:\n",
    "        hops_list.append(\",\"+ hop['name'])\n",
    "    beer_list['hops'] = hops_list\n",
    "    \n",
    "    #Append to dataframe\n",
    "    temp_df  = pd.DataFrame([beer_list], columns=beer_list.keys())\n",
    "    beer_df = beer_df.append(temp_df)\n",
    "    \n",
    "    #Add beer count\n",
    "    beer_count  += 1\n",
    "    \n",
    "    #Print progress\n",
    "    print(\"Grabbing Punk beer data. Current progress:\",x,\"/\",loop_count,\". \",beer_count,\" beer(s) discovered so far!\")\n",
    "    \n",
    "    #Wait fixed time to prevent API throttling / restricting usage\n",
    "    time.sleep(.75)\n",
    "\n",
    "#Reset index of Dataframe (ensuring that old index doesn't get added as a column)\n",
    "beer_df = beer_df.reset_index(drop=True)"
   ]
  },
  {
   "cell_type": "code",
   "execution_count": 16,
   "metadata": {},
   "outputs": [
    {
     "data": {
      "text/html": [
       "<div>\n",
       "<style scoped>\n",
       "    .dataframe tbody tr th:only-of-type {\n",
       "        vertical-align: middle;\n",
       "    }\n",
       "\n",
       "    .dataframe tbody tr th {\n",
       "        vertical-align: top;\n",
       "    }\n",
       "\n",
       "    .dataframe thead th {\n",
       "        text-align: right;\n",
       "    }\n",
       "</style>\n",
       "<table border=\"1\" class=\"dataframe\">\n",
       "  <thead>\n",
       "    <tr style=\"text-align: right;\">\n",
       "      <th></th>\n",
       "      <th>id</th>\n",
       "      <th>name</th>\n",
       "      <th>abv</th>\n",
       "      <th>ph</th>\n",
       "      <th>ibu</th>\n",
       "      <th>first_brewed</th>\n",
       "      <th>hops</th>\n",
       "    </tr>\n",
       "  </thead>\n",
       "  <tbody>\n",
       "    <tr>\n",
       "      <th>2</th>\n",
       "      <td>232</td>\n",
       "      <td>Ace Of Equinox</td>\n",
       "      <td>4.5</td>\n",
       "      <td>4.2</td>\n",
       "      <td>40</td>\n",
       "      <td>01/2016</td>\n",
       "      <td>[,Equinox, ,Equinox, ,Equinox, ,Equinox]</td>\n",
       "    </tr>\n",
       "    <tr>\n",
       "      <th>3</th>\n",
       "      <td>233</td>\n",
       "      <td>Ace Of Citra</td>\n",
       "      <td>4.5</td>\n",
       "      <td>4.2</td>\n",
       "      <td>40</td>\n",
       "      <td>01/2016</td>\n",
       "      <td>[,Citra, ,Citra, ,Citra, ,Citra]</td>\n",
       "    </tr>\n",
       "    <tr>\n",
       "      <th>4</th>\n",
       "      <td>234</td>\n",
       "      <td>Neon Overlord</td>\n",
       "      <td>7.6</td>\n",
       "      <td>4.4</td>\n",
       "      <td>70</td>\n",
       "      <td>01/2016</td>\n",
       "      <td>[,Centennial, ,Centennial, ,Columbus, ,Mosaic,...</td>\n",
       "    </tr>\n",
       "  </tbody>\n",
       "</table>\n",
       "</div>"
      ],
      "text/plain": [
       "    id            name  abv   ph ibu first_brewed  \\\n",
       "2  232  Ace Of Equinox  4.5  4.2  40      01/2016   \n",
       "3  233    Ace Of Citra  4.5  4.2  40      01/2016   \n",
       "4  234   Neon Overlord  7.6  4.4  70      01/2016   \n",
       "\n",
       "                                                hops  \n",
       "2           [,Equinox, ,Equinox, ,Equinox, ,Equinox]  \n",
       "3                   [,Citra, ,Citra, ,Citra, ,Citra]  \n",
       "4  [,Centennial, ,Centennial, ,Columbus, ,Mosaic,...  "
      ]
     },
     "execution_count": 16,
     "metadata": {},
     "output_type": "execute_result"
    }
   ],
   "source": [
    "beer_df[2:5]"
   ]
  },
  {
   "cell_type": "code",
   "execution_count": 5,
   "metadata": {},
   "outputs": [
    {
     "name": "stdout",
     "output_type": "stream",
     "text": [
      "High five! You successfully sent some data to your account on plotly. View your plot in your browser at https://plot.ly/~cjmcguicken/0 or inside your plot.ly account where it is named 'jupyter-basic_bar'\n"
     ]
    },
    {
     "name": "stderr",
     "output_type": "stream",
     "text": [
      "c:\\users\\calum mcguicken\\documents\\python\\lib\\site-packages\\IPython\\core\\display.py:689: UserWarning:\n",
      "\n",
      "Consider using IPython.display.IFrame instead\n",
      "\n"
     ]
    },
    {
     "data": {
      "text/html": [
       "<iframe id=\"igraph\" scrolling=\"no\" style=\"border:none;\" seamless=\"seamless\" src=\"https://plot.ly/~cjmcguicken/0.embed\" height=\"525px\" width=\"100%\"></iframe>"
      ],
      "text/plain": [
       "<plotly.tools.PlotlyDisplay object>"
      ]
     },
     "execution_count": 5,
     "metadata": {},
     "output_type": "execute_result"
    }
   ],
   "source": [
    "import plotly.plotly as py\n",
    "import plotly.graph_objs as go\n",
    "\n",
    "data = [go.Bar(x=beer_df.ph,\n",
    "            y=beer_df.ibu)]\n",
    "\n",
    "py.iplot(data, filename='jupyter-basic_bar')"
   ]
  },
  {
   "cell_type": "code",
   "execution_count": null,
   "metadata": {},
   "outputs": [],
   "source": []
  }
 ],
 "metadata": {
  "kernelspec": {
   "display_name": "Python 3",
   "language": "python",
   "name": "python3"
  },
  "language_info": {
   "codemirror_mode": {
    "name": "ipython",
    "version": 3
   },
   "file_extension": ".py",
   "mimetype": "text/x-python",
   "name": "python",
   "nbconvert_exporter": "python",
   "pygments_lexer": "ipython3",
   "version": "3.6.5"
  }
 },
 "nbformat": 4,
 "nbformat_minor": 2
}
