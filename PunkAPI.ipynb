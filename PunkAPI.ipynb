{
 "cells": [
  {
   "cell_type": "code",
   "execution_count": 27,
   "metadata": {},
   "outputs": [
    {
     "name": "stdout",
     "output_type": "stream",
     "text": [
      "Current progress: 10 / 10\n",
      "{'id': 1, 'abv': 4.5, 'ph': 4.4, 'ibu': 60}\n"
     ]
    }
   ],
   "source": [
    "import requests\n",
    "import json\n",
    "import numpy as np\n",
    "from IPython.display import clear_output\n",
    "\n",
    "loopCount = 10\n",
    "beerCount = 0\n",
    "\n",
    "for x in range(1, loopCount+1):\n",
    "    clear_output(wait=True)\n",
    "    url_api = 'https://api.punkapi.com/v2/beers/' + str(x)\n",
    "    response = requests.get(url=url_api, headers = {'Content-Type': 'application/json', 'Accept': 'application/json'})\n",
    "    try:\n",
    "        jsonBeer = json.loads(response.text)[0]\n",
    "    except:\n",
    "        continue\n",
    "    beerList[x] = {}\n",
    "    beerList[x]['id'] = jsonBeer['id']\n",
    "    beerList[x]['name'] = jsonBeer['name']\n",
    "    beerList[x][\"abv\"] = jsonBeer['abv']\n",
    "    beerList[x][\"ph\"] = jsonBeer['ph']\n",
    "    beerList[x][\"ibu\"] = jsonBeer['ibu']\n",
    "    beerCount  += 1\n",
    "    print(\"Current progress:\",x,\"/\",loopCount)\n",
    "print(beerList[1])"
   ]
  },
  {
   "cell_type": "code",
   "execution_count": null,
   "metadata": {},
   "outputs": [],
   "source": []
  }
 ],
 "metadata": {
  "kernelspec": {
   "display_name": "Python 3",
   "language": "python",
   "name": "python3"
  },
  "language_info": {
   "codemirror_mode": {
    "name": "ipython",
    "version": 3
   },
   "file_extension": ".py",
   "mimetype": "text/x-python",
   "name": "python",
   "nbconvert_exporter": "python",
   "pygments_lexer": "ipython3",
   "version": "3.6.5"
  }
 },
 "nbformat": 4,
 "nbformat_minor": 2
}
