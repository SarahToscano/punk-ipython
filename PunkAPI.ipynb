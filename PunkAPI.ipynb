{
 "cells": [
  {
   "cell_type": "code",
   "execution_count": null,
   "metadata": {},
   "outputs": [
    {
     "name": "stdout",
     "output_type": "stream",
     "text": [
      "Current progress: 12 / 500 .  12  beer(s) discovered so far!\n"
     ]
    }
   ],
   "source": [
    "import requests\n",
    "import json\n",
    "import time\n",
    "from IPython.display import clear_output\n",
    "\n",
    "loopCount = 500\n",
    "beerCount = 0\n",
    "\n",
    "for x in range(1, loopCount+1):\n",
    "    #Use IPython custome clear output to minimise outputs\n",
    "    clear_output(wait=True)\n",
    "    \n",
    "    #Get JSON using URL Request\n",
    "    url_api = 'https://api.punkapi.com/v2/beers/' + str(x)\n",
    "    response = requests.get(url=url_api, headers = {'Content-Type': 'application/json', 'Accept': 'application/json'})\n",
    "    \n",
    "    #If error, API will return differently structured JSON rather than a HTTP error\n",
    "    try:\n",
    "        #Store JSON\n",
    "        jsonBeer = json.loads(response.text)[0]\n",
    "    except:\n",
    "        #Error - so skip\n",
    "        continue\n",
    "        \n",
    "    #Assign beer data into Dictionary for later analysis\n",
    "    beerList[x] = {}\n",
    "    beerList[x]['id'] = jsonBeer['id']\n",
    "    beerList[x]['name'] = jsonBeer['name']\n",
    "    beerList[x][\"abv\"] = jsonBeer['abv']\n",
    "    beerList[x][\"ph\"] = jsonBeer['ph']\n",
    "    beerList[x][\"ibu\"] = jsonBeer['ibu']\n",
    "    \n",
    "    #Add beer count\n",
    "    beerCount  += 1\n",
    "    \n",
    "    #Print progress\n",
    "    print(\"Current progress:\",x,\"/\",loopCount,\". \",beerCount,\" beer(s) discovered so far!\")\n",
    "    \n",
    "    #Wait fixed time to prevent API throttling / restricting usage\n",
    "    time.sleep(.75)\n",
    "    \n",
    "print(beerList[1])\n",
    "print(beerCount)"
   ]
  },
  {
   "cell_type": "code",
   "execution_count": null,
   "metadata": {},
   "outputs": [],
   "source": []
  }
 ],
 "metadata": {
  "kernelspec": {
   "display_name": "Python 3",
   "language": "python",
   "name": "python3"
  },
  "language_info": {
   "codemirror_mode": {
    "name": "ipython",
    "version": 3
   },
   "file_extension": ".py",
   "mimetype": "text/x-python",
   "name": "python",
   "nbconvert_exporter": "python",
   "pygments_lexer": "ipython3",
   "version": "3.6.5"
  }
 },
 "nbformat": 4,
 "nbformat_minor": 2
}
