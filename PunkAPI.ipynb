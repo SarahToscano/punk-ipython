{
 "cells": [
  {
   "cell_type": "code",
   "execution_count": 1,
   "metadata": {
    "scrolled": true
   },
   "outputs": [
    {
     "name": "stdout",
     "output_type": "stream",
     "text": [
      "Grabbing Punk beer data. Current progress: 250 / 250 .  101  beer(s) discovered so far!\n"
     ]
    }
   ],
   "source": [
    "import requests\n",
    "import json\n",
    "import time\n",
    "import pandas as pd\n",
    "from IPython.display import clear_output\n",
    "\n",
    "loop_count = 250\n",
    "beer_count = 0\n",
    "\n",
    "beer_df = pd.DataFrame(columns=['id','name','abv','ph','ibu', 'first_brewed', 'hops'])\n",
    "\n",
    "for x in range(150, loop_count+1):\n",
    "    #Use IPython custom clear output to minimise outputs\n",
    "    clear_output(wait=True)\n",
    "    \n",
    "    #Get JSON using URL Request\n",
    "    url_api = 'https://api.punkapi.com/v2/beers/' + str(x)\n",
    "    response = requests.get(url=url_api, headers = {'Content-Type': 'application/json', 'Accept': 'application/json'})\n",
    "    \n",
    "    #If error, API will return differently structured JSON rather than a HTTP error\n",
    "    try:\n",
    "        #Store JSON, grabbing first element (due to JSON structure from API)\n",
    "        json_beer = json.loads(response.text)[0]\n",
    "    except:\n",
    "        #Error - so skip (but show ID with error)\n",
    "        print(\"Grabbing Punk beer data. Current progress:\",x,\"/\",loop_count,\". \",beer_count,\" beer(s) discovered so far! No beer with ID: \",x)\n",
    "        continue\n",
    "        \n",
    "    #Assign beer data into Dictionary for later analysis\n",
    "    beer_dict = {}\n",
    "    \n",
    "    #Create lists for hops and yeast\n",
    "    hops_list = []\n",
    "    yeast_list = []\n",
    "    \n",
    "    #Store beer info from JSON\n",
    "    beer_dict['id'] = json_beer['id']\n",
    "    beer_dict['name'] = json_beer['name']\n",
    "    beer_dict['abv'] = json_beer['abv']\n",
    "    beer_dict['ph'] = json_beer['ph']\n",
    "    beer_dict['ibu'] = json_beer['ibu'] \n",
    "    beer_dict['first_brewed'] = json_beer['first_brewed']\n",
    "    \n",
    "    #Use a List comprehension to get all hops types per beer\n",
    "    hops_list = [hop['name'] for hop in json_beer['ingredients']['hops']]\n",
    "    \n",
    "    #Remove hop duplicates (by creating a set) and put into array\n",
    "    hops_list = list(set(hops_list))\n",
    "    beer_dict['hops'] = hops_list\n",
    "    \n",
    "    #Append to dataframe\n",
    "    temp_df  = pd.DataFrame([beer_dict], columns=beer_df.keys())\n",
    "    beer_df = beer_df.append(temp_df)\n",
    "    \n",
    "    #Add beer count\n",
    "    beer_count  += 1\n",
    "    \n",
    "    #Print progress\n",
    "    print(\"Grabbing Punk beer data. Current progress:\",x,\"/\",loop_count,\". \",beer_count,\" beer(s) discovered so far!\")\n",
    "    \n",
    "    #Wait fixed time to prevent API throttling / restricting usage\n",
    "    time.sleep(.75)\n",
    "\n",
    "#Reset index of Dataframe (ensuring that old index doesn't get added as a column)\n",
    "beer_df = beer_df.reset_index(drop=True)"
   ]
  },
  {
   "cell_type": "code",
   "execution_count": 14,
   "metadata": {},
   "outputs": [
    {
     "name": "stdout",
     "output_type": "stream",
     "text": [
      "Hops dataframe completed!\n"
     ]
    }
   ],
   "source": [
    "import pandas as pd\n",
    "\n",
    "#Create new dataframe to understand hops brewed by year\n",
    "hops_df = pd.DataFrame(columns=['name', 'year'])\n",
    "\n",
    "#Iterate each row in the raw beer dataframe\n",
    "for index, row in beer_df.iterrows():\n",
    "    \n",
    "    #As multiple hops can be in one brew, second loop to iterate through list within beer dataframe row\n",
    "    for hop_name in row['hops']:\n",
    "        \n",
    "        #Create temporary dictionary to be used to append to the hops dataframe\n",
    "        temp_dict = {}\n",
    "\n",
    "        #Get name of hop\n",
    "        temp_dict['name'] = hop_name\n",
    "        \n",
    "        #Get year of brew, difficulty here is inconsistent formatting in data (sometimes MM/YYYY or YYYY)\n",
    "        #Therefore search for \"/\" and split if required \n",
    "        temp_dict['year'] = beer_df.loc[index, 'first_brewed']\n",
    "        if \"/\" in temp_dict['year']:\n",
    "            temp_dict['year'] = temp_dict['year'].split(\"/\")[1]\n",
    "            \n",
    "        #Append temporary dictionary to hops dataframe\n",
    "        temp_df  = pd.DataFrame([temp_dict], columns=hops_df.keys())\n",
    "        hops_df = hops_df.append(temp_df)\n",
    "\n",
    "#Reset index of Dataframe (ensuring that old index doesn't get added as a column)\n",
    "hops_df = hops_df.reset_index(drop=True)  \n",
    "\n",
    "#Change hops dataframe structure - years as columns and hop name as index\n",
    "hops_df = pd.crosstab(index=hops_df['name'], columns=hops_df['year'])\n",
    "\n",
    "#Reset index of dataframe to ensure name is a column (as well as index name)\n",
    "hops_df = hops_df.reset_index()\n",
    "\n",
    "#Sort and select top 20 hops\n",
    "top_20_hops_df = hops_df.sort_values(by=hops_df.columns[len(hops_df.columns)-1], ascending=False).head(20)\n",
    "\n",
    "#Print progress\n",
    "print(\"Hops dataframe completed!\")"
   ]
  },
  {
   "cell_type": "code",
   "execution_count": 30,
   "metadata": {
    "scrolled": false
   },
   "outputs": [
    {
     "data": {
      "text/html": [
       "<script type=\"text/javascript\">window.PlotlyConfig = {MathJaxConfig: 'local'};</script><script type=\"text/javascript\">if (window.MathJax) {MathJax.Hub.Config({SVG: {font: \"STIX-Web\"}});}</script><script>requirejs.config({paths: { 'plotly': ['https://cdn.plot.ly/plotly-latest.min']},});if(!window._Plotly) {require(['plotly'],function(plotly) {window._Plotly=plotly;});}</script>"
      ],
      "text/vnd.plotly.v1+html": [
       "<script type=\"text/javascript\">window.PlotlyConfig = {MathJaxConfig: 'local'};</script><script type=\"text/javascript\">if (window.MathJax) {MathJax.Hub.Config({SVG: {font: \"STIX-Web\"}});}</script><script>requirejs.config({paths: { 'plotly': ['https://cdn.plot.ly/plotly-latest.min']},});if(!window._Plotly) {require(['plotly'],function(plotly) {window._Plotly=plotly;});}</script>"
      ]
     },
     "metadata": {},
     "output_type": "display_data"
    }
   ],
   "source": [
    "from plotly.offline import init_notebook_mode, iplot\n",
    "from IPython.display import display, HTML\n",
    "\n",
    "#Use offline mode of Plotly - injecting the plotly.js source files into the notebook\n",
    "init_notebook_mode(connected = True)\n",
    "\n",
    "#Get list of years required for slider (removing first item as it is 'Name')\n",
    "years = list(top_20_hops_df)[1:]\n",
    "\n",
    "#Get list of hops names\n",
    "hops = top_20_hops_df['name'].tolist()\n",
    "\n",
    "#Get list of first year\n",
    "first_year = top_20_hops_df.iloc[:,1].tolist()"
   ]
  },
  {
   "cell_type": "code",
   "execution_count": 32,
   "metadata": {},
   "outputs": [],
   "source": [
    "#Create figure with custom formatting\n",
    "#Formatting includes BrewDog logo and play/end animation buttons\n",
    "figure = {\n",
    "  'data': [{\n",
    "    'type': 'bar',\n",
    "    'x': hops,\n",
    "    'y': first_year\n",
    "  }],\n",
    "  'layout': {\n",
    "    'images': [{\n",
    "      'source': 'https://raw.githubusercontent.com/emperorcal/punk-ipython/master/brewdog-logo.jpg',\n",
    "      'xref': 'paper',\n",
    "      'yref': 'paper',\n",
    "      'x': 1,\n",
    "      'y': 1.05,\n",
    "      'sizex': 0.3,\n",
    "      'sizey': 0.3,\n",
    "      'xanchor': 'right',\n",
    "      'yanchor': 'bottom'\n",
    "    }],\n",
    "    'title': 'Brewdog Choice of Hops in a Brew Per Year',\n",
    "    'xaxis': {\n",
    "      'title': 'Hop',\n",
    "      'gridcolor': '#FFFFFF',\n",
    "      'linecolor': '#000',\n",
    "      'linewidth': 1,\n",
    "      'tickangle': -45,\n",
    "      'zeroline': False,\n",
    "      'autorange': True\n",
    "    },\n",
    "    'yaxis': {\n",
    "      'title': 'Number of Times in a Brew',\n",
    "      'gridcolor': '#FFFFFF',\n",
    "      'linecolor': '#000',\n",
    "      'linewidth': 1,\n",
    "      'range': [0, top_20_hops_df.iloc[:,1].max()+2],\n",
    "      'autorange': False\n",
    "    },\n",
    "    'title': 'Hopping Over the Years<br><i>Brewdog hop choice per year</i>',\n",
    "    'hovermode': 'closest',\n",
    "    'updatemenus': [{\n",
    "      'type': 'buttons',\n",
    "      'buttons': [{\n",
    "          'label': 'Play',\n",
    "          'method': 'animate',\n",
    "          'args': [None, {\n",
    "            'frame': {\n",
    "              'duration': 500,\n",
    "              'redraw': True\n",
    "            },\n",
    "            'fromcurrent': True,\n",
    "            'transition': {\n",
    "              'duration': 300,\n",
    "              'easing': 'quadratic-in-out'\n",
    "            }\n",
    "          }]\n",
    "        },\n",
    "        {\n",
    "          'label': 'End',\n",
    "          'method': 'animate',\n",
    "          'args': [None, {\n",
    "            'frame': {\n",
    "              'duration': 0,\n",
    "              'redraw': True\n",
    "            },\n",
    "            'fromcurrent': True,\n",
    "            'mode': 'immediate',\n",
    "            'transition': {\n",
    "              'duration': 0\n",
    "            }\n",
    "          }]\n",
    "        }\n",
    "      ],\n",
    "      'direction': 'left',\n",
    "      'pad': {\n",
    "        'r': 10,\n",
    "        't': 87\n",
    "      },\n",
    "      'showactive': False,\n",
    "      'type': 'buttons',\n",
    "      'x': 0.1,\n",
    "      'xanchor': 'right',\n",
    "      'y': -0.3,\n",
    "      'yanchor': 'top'\n",
    "    }]\n",
    "  },\n",
    "  'frames': []\n",
    "}"
   ]
  },
  {
   "cell_type": "code",
   "execution_count": 33,
   "metadata": {},
   "outputs": [],
   "source": [
    "#Create additional part of the layout - sliders\n",
    "#To be used to slice data by years\n",
    "\n",
    "sliders_dict = {\n",
    "  'active': 0,\n",
    "  'yanchor': 'top',\n",
    "  'xanchor': 'left',\n",
    "  'currentvalue': {\n",
    "    'font': {\n",
    "      'size': 20\n",
    "    },\n",
    "    'prefix': 'Year:',\n",
    "    'visible': True,\n",
    "    'xanchor': 'right'\n",
    "  },\n",
    "  'transition': {\n",
    "    'duration': 300,\n",
    "    'easing': 'cubic-in-out'\n",
    "  },\n",
    "  'pad': {\n",
    "    'b': 10,\n",
    "    't': 50\n",
    "  },\n",
    "  'len': 0.9,\n",
    "  'x': 0.1,\n",
    "  'y': -0.3,\n",
    "  'steps': []\n",
    "}\n",
    "\n",
    "#Loop through years, creating a different figure for each year through a 'frame'\n",
    "for year in years:\n",
    "    frame = {\n",
    "        'data': [{\n",
    "          'type': 'bar',\n",
    "          'x': hops,\n",
    "          'y': top_20_hops_df[year].tolist(),\n",
    "          'marker': {\n",
    "            'color': '#cbcfd6',\n",
    "            'line': {\n",
    "              'color': 'rgb(0, 0, 0)',\n",
    "              'width': 2\n",
    "            }\n",
    "          }\n",
    "        }],\n",
    "        'name': str(year)\n",
    "        }\n",
    "    figure['frames'].append(frame)\n",
    "\n",
    "    slider_step = {\n",
    "      'args': [\n",
    "        [year],\n",
    "        {\n",
    "          'frame': {\n",
    "            'duration': 300,\n",
    "            'redraw': True\n",
    "          },\n",
    "          'mode': 'immediate',\n",
    "          'transition': {\n",
    "            'duration': 300\n",
    "          }\n",
    "        }\n",
    "      ],\n",
    "      'label': year,\n",
    "      'method': 'animate'\n",
    "    }\n",
    "    sliders_dict['steps'].append(slider_step)\n",
    "\n",
    "#Add sliders data to Figure\n",
    "figure['layout']['sliders'] = [sliders_dict]"
   ]
  },
  {
   "cell_type": "code",
   "execution_count": 34,
   "metadata": {},
   "outputs": [
    {
     "data": {
      "application/vnd.plotly.v1+json": {
       "config": {
        "linkText": "Export to plot.ly",
        "plotlyServerURL": "https://plot.ly",
        "showLink": false
       },
       "data": [
        {
         "type": "bar",
         "uid": "968b3455-73bb-4524-8a0c-447833715cb6",
         "x": [
          "Citra",
          "Centennial",
          "Columbus",
          "Amarillo",
          "Simcoe",
          "Magnum",
          "Bramling Cross",
          "Columbus Extract",
          "Chinook",
          "Perle",
          "Cascade",
          "Mosaic",
          "Equinox",
          "Enigma",
          "Coriander",
          "Sorachi Ace",
          "Honey",
          "Galena",
          "Willamette",
          "Nelson Sauvin"
         ],
         "y": [
          0,
          0,
          0,
          1,
          0,
          0,
          0,
          0,
          1,
          0,
          0,
          0,
          0,
          0,
          0,
          0,
          0,
          0,
          0,
          0
         ]
        }
       ],
       "frames": [
        {
         "data": [
          {
           "marker": {
            "color": "#cbcfd6",
            "line": {
             "color": "rgb(0, 0, 0)",
             "width": 2
            }
           },
           "type": "bar",
           "x": [
            "Citra",
            "Centennial",
            "Columbus",
            "Amarillo",
            "Simcoe",
            "Magnum",
            "Bramling Cross",
            "Columbus Extract",
            "Chinook",
            "Perle",
            "Cascade",
            "Mosaic",
            "Equinox",
            "Enigma",
            "Coriander",
            "Sorachi Ace",
            "Honey",
            "Galena",
            "Willamette",
            "Nelson Sauvin"
           ],
           "y": [
            0,
            0,
            0,
            1,
            0,
            0,
            0,
            0,
            1,
            0,
            0,
            0,
            0,
            0,
            0,
            0,
            0,
            0,
            0,
            0
           ]
          }
         ],
         "name": "2007"
        },
        {
         "data": [
          {
           "marker": {
            "color": "#cbcfd6",
            "line": {
             "color": "rgb(0, 0, 0)",
             "width": 2
            }
           },
           "type": "bar",
           "x": [
            "Citra",
            "Centennial",
            "Columbus",
            "Amarillo",
            "Simcoe",
            "Magnum",
            "Bramling Cross",
            "Columbus Extract",
            "Chinook",
            "Perle",
            "Cascade",
            "Mosaic",
            "Equinox",
            "Enigma",
            "Coriander",
            "Sorachi Ace",
            "Honey",
            "Galena",
            "Willamette",
            "Nelson Sauvin"
           ],
           "y": [
            0,
            0,
            0,
            0,
            0,
            0,
            1,
            0,
            1,
            0,
            1,
            0,
            0,
            0,
            0,
            0,
            0,
            0,
            0,
            0
           ]
          }
         ],
         "name": "2008"
        },
        {
         "data": [
          {
           "marker": {
            "color": "#cbcfd6",
            "line": {
             "color": "rgb(0, 0, 0)",
             "width": 2
            }
           },
           "type": "bar",
           "x": [
            "Citra",
            "Centennial",
            "Columbus",
            "Amarillo",
            "Simcoe",
            "Magnum",
            "Bramling Cross",
            "Columbus Extract",
            "Chinook",
            "Perle",
            "Cascade",
            "Mosaic",
            "Equinox",
            "Enigma",
            "Coriander",
            "Sorachi Ace",
            "Honey",
            "Galena",
            "Willamette",
            "Nelson Sauvin"
           ],
           "y": [
            0,
            2,
            2,
            1,
            2,
            1,
            0,
            0,
            3,
            0,
            0,
            0,
            0,
            0,
            0,
            0,
            0,
            3,
            0,
            0
           ]
          }
         ],
         "name": "2009"
        },
        {
         "data": [
          {
           "marker": {
            "color": "#cbcfd6",
            "line": {
             "color": "rgb(0, 0, 0)",
             "width": 2
            }
           },
           "type": "bar",
           "x": [
            "Citra",
            "Centennial",
            "Columbus",
            "Amarillo",
            "Simcoe",
            "Magnum",
            "Bramling Cross",
            "Columbus Extract",
            "Chinook",
            "Perle",
            "Cascade",
            "Mosaic",
            "Equinox",
            "Enigma",
            "Coriander",
            "Sorachi Ace",
            "Honey",
            "Galena",
            "Willamette",
            "Nelson Sauvin"
           ],
           "y": [
            0,
            1,
            3,
            0,
            1,
            1,
            0,
            0,
            0,
            0,
            0,
            0,
            0,
            0,
            0,
            1,
            0,
            0,
            0,
            0
           ]
          }
         ],
         "name": "2010"
        },
        {
         "data": [
          {
           "marker": {
            "color": "#cbcfd6",
            "line": {
             "color": "rgb(0, 0, 0)",
             "width": 2
            }
           },
           "type": "bar",
           "x": [
            "Citra",
            "Centennial",
            "Columbus",
            "Amarillo",
            "Simcoe",
            "Magnum",
            "Bramling Cross",
            "Columbus Extract",
            "Chinook",
            "Perle",
            "Cascade",
            "Mosaic",
            "Equinox",
            "Enigma",
            "Coriander",
            "Sorachi Ace",
            "Honey",
            "Galena",
            "Willamette",
            "Nelson Sauvin"
           ],
           "y": [
            0,
            1,
            1,
            1,
            0,
            1,
            1,
            0,
            1,
            0,
            2,
            0,
            0,
            0,
            0,
            0,
            0,
            1,
            0,
            0
           ]
          }
         ],
         "name": "2011"
        },
        {
         "data": [
          {
           "marker": {
            "color": "#cbcfd6",
            "line": {
             "color": "rgb(0, 0, 0)",
             "width": 2
            }
           },
           "type": "bar",
           "x": [
            "Citra",
            "Centennial",
            "Columbus",
            "Amarillo",
            "Simcoe",
            "Magnum",
            "Bramling Cross",
            "Columbus Extract",
            "Chinook",
            "Perle",
            "Cascade",
            "Mosaic",
            "Equinox",
            "Enigma",
            "Coriander",
            "Sorachi Ace",
            "Honey",
            "Galena",
            "Willamette",
            "Nelson Sauvin"
           ],
           "y": [
            1,
            2,
            2,
            3,
            4,
            1,
            0,
            1,
            1,
            0,
            3,
            1,
            0,
            0,
            0,
            0,
            0,
            0,
            0,
            1
           ]
          }
         ],
         "name": "2012"
        },
        {
         "data": [
          {
           "marker": {
            "color": "#cbcfd6",
            "line": {
             "color": "rgb(0, 0, 0)",
             "width": 2
            }
           },
           "type": "bar",
           "x": [
            "Citra",
            "Centennial",
            "Columbus",
            "Amarillo",
            "Simcoe",
            "Magnum",
            "Bramling Cross",
            "Columbus Extract",
            "Chinook",
            "Perle",
            "Cascade",
            "Mosaic",
            "Equinox",
            "Enigma",
            "Coriander",
            "Sorachi Ace",
            "Honey",
            "Galena",
            "Willamette",
            "Nelson Sauvin"
           ],
           "y": [
            0,
            2,
            1,
            2,
            1,
            3,
            1,
            0,
            0,
            0,
            2,
            1,
            0,
            0,
            0,
            0,
            0,
            0,
            1,
            0
           ]
          }
         ],
         "name": "2013"
        },
        {
         "data": [
          {
           "marker": {
            "color": "#cbcfd6",
            "line": {
             "color": "rgb(0, 0, 0)",
             "width": 2
            }
           },
           "type": "bar",
           "x": [
            "Citra",
            "Centennial",
            "Columbus",
            "Amarillo",
            "Simcoe",
            "Magnum",
            "Bramling Cross",
            "Columbus Extract",
            "Chinook",
            "Perle",
            "Cascade",
            "Mosaic",
            "Equinox",
            "Enigma",
            "Coriander",
            "Sorachi Ace",
            "Honey",
            "Galena",
            "Willamette",
            "Nelson Sauvin"
           ],
           "y": [
            4,
            5,
            2,
            6,
            3,
            0,
            0,
            0,
            2,
            0,
            4,
            1,
            0,
            0,
            0,
            0,
            0,
            0,
            0,
            0
           ]
          }
         ],
         "name": "2014"
        },
        {
         "data": [
          {
           "marker": {
            "color": "#cbcfd6",
            "line": {
             "color": "rgb(0, 0, 0)",
             "width": 2
            }
           },
           "type": "bar",
           "x": [
            "Citra",
            "Centennial",
            "Columbus",
            "Amarillo",
            "Simcoe",
            "Magnum",
            "Bramling Cross",
            "Columbus Extract",
            "Chinook",
            "Perle",
            "Cascade",
            "Mosaic",
            "Equinox",
            "Enigma",
            "Coriander",
            "Sorachi Ace",
            "Honey",
            "Galena",
            "Willamette",
            "Nelson Sauvin"
           ],
           "y": [
            4,
            3,
            0,
            6,
            3,
            1,
            2,
            0,
            4,
            0,
            1,
            5,
            0,
            0,
            0,
            1,
            1,
            1,
            2,
            2
           ]
          }
         ],
         "name": "2015"
        },
        {
         "data": [
          {
           "marker": {
            "color": "#cbcfd6",
            "line": {
             "color": "rgb(0, 0, 0)",
             "width": 2
            }
           },
           "type": "bar",
           "x": [
            "Citra",
            "Centennial",
            "Columbus",
            "Amarillo",
            "Simcoe",
            "Magnum",
            "Bramling Cross",
            "Columbus Extract",
            "Chinook",
            "Perle",
            "Cascade",
            "Mosaic",
            "Equinox",
            "Enigma",
            "Coriander",
            "Sorachi Ace",
            "Honey",
            "Galena",
            "Willamette",
            "Nelson Sauvin"
           ],
           "y": [
            13,
            12,
            11,
            9,
            8,
            6,
            6,
            5,
            4,
            4,
            4,
            3,
            3,
            2,
            2,
            2,
            2,
            2,
            2,
            1
           ]
          }
         ],
         "name": "2016"
        }
       ],
       "layout": {
        "hovermode": "closest",
        "images": [
         {
          "sizex": 0.3,
          "sizey": 0.3,
          "source": "https://raw.githubusercontent.com/emperorcal/punk-ipython/master/brewdog-logo.jpg",
          "x": 1,
          "xanchor": "right",
          "xref": "paper",
          "y": 1.05,
          "yanchor": "bottom",
          "yref": "paper"
         }
        ],
        "sliders": [
         {
          "active": 0,
          "currentvalue": {
           "font": {
            "size": 20
           },
           "prefix": "Year:",
           "visible": true,
           "xanchor": "right"
          },
          "len": 0.9,
          "pad": {
           "b": 10,
           "t": 50
          },
          "steps": [
           {
            "args": [
             [
              "2007"
             ],
             {
              "frame": {
               "duration": 300,
               "redraw": true
              },
              "mode": "immediate",
              "transition": {
               "duration": 300
              }
             }
            ],
            "label": "2007",
            "method": "animate"
           },
           {
            "args": [
             [
              "2008"
             ],
             {
              "frame": {
               "duration": 300,
               "redraw": true
              },
              "mode": "immediate",
              "transition": {
               "duration": 300
              }
             }
            ],
            "label": "2008",
            "method": "animate"
           },
           {
            "args": [
             [
              "2009"
             ],
             {
              "frame": {
               "duration": 300,
               "redraw": true
              },
              "mode": "immediate",
              "transition": {
               "duration": 300
              }
             }
            ],
            "label": "2009",
            "method": "animate"
           },
           {
            "args": [
             [
              "2010"
             ],
             {
              "frame": {
               "duration": 300,
               "redraw": true
              },
              "mode": "immediate",
              "transition": {
               "duration": 300
              }
             }
            ],
            "label": "2010",
            "method": "animate"
           },
           {
            "args": [
             [
              "2011"
             ],
             {
              "frame": {
               "duration": 300,
               "redraw": true
              },
              "mode": "immediate",
              "transition": {
               "duration": 300
              }
             }
            ],
            "label": "2011",
            "method": "animate"
           },
           {
            "args": [
             [
              "2012"
             ],
             {
              "frame": {
               "duration": 300,
               "redraw": true
              },
              "mode": "immediate",
              "transition": {
               "duration": 300
              }
             }
            ],
            "label": "2012",
            "method": "animate"
           },
           {
            "args": [
             [
              "2013"
             ],
             {
              "frame": {
               "duration": 300,
               "redraw": true
              },
              "mode": "immediate",
              "transition": {
               "duration": 300
              }
             }
            ],
            "label": "2013",
            "method": "animate"
           },
           {
            "args": [
             [
              "2014"
             ],
             {
              "frame": {
               "duration": 300,
               "redraw": true
              },
              "mode": "immediate",
              "transition": {
               "duration": 300
              }
             }
            ],
            "label": "2014",
            "method": "animate"
           },
           {
            "args": [
             [
              "2015"
             ],
             {
              "frame": {
               "duration": 300,
               "redraw": true
              },
              "mode": "immediate",
              "transition": {
               "duration": 300
              }
             }
            ],
            "label": "2015",
            "method": "animate"
           },
           {
            "args": [
             [
              "2016"
             ],
             {
              "frame": {
               "duration": 300,
               "redraw": true
              },
              "mode": "immediate",
              "transition": {
               "duration": 300
              }
             }
            ],
            "label": "2016",
            "method": "animate"
           }
          ],
          "transition": {
           "duration": 300,
           "easing": "cubic-in-out"
          },
          "x": 0.1,
          "xanchor": "left",
          "y": -0.3,
          "yanchor": "top"
         }
        ],
        "title": {
         "text": "Hopping Over the Years<br><i>Brewdog hop choice per year</i>"
        },
        "updatemenus": [
         {
          "buttons": [
           {
            "args": [
             null,
             {
              "frame": {
               "duration": 500,
               "redraw": true
              },
              "fromcurrent": true,
              "transition": {
               "duration": 300,
               "easing": "quadratic-in-out"
              }
             }
            ],
            "label": "Play",
            "method": "animate"
           },
           {
            "args": [
             null,
             {
              "frame": {
               "duration": 0,
               "redraw": true
              },
              "fromcurrent": true,
              "mode": "immediate",
              "transition": {
               "duration": 0
              }
             }
            ],
            "label": "End",
            "method": "animate"
           }
          ],
          "direction": "left",
          "pad": {
           "r": 10,
           "t": 87
          },
          "showactive": false,
          "type": "buttons",
          "x": 0.1,
          "xanchor": "right",
          "y": -0.3,
          "yanchor": "top"
         }
        ],
        "xaxis": {
         "autorange": true,
         "gridcolor": "#FFFFFF",
         "linecolor": "#000",
         "linewidth": 1,
         "tickangle": -45,
         "title": {
          "text": "Hop"
         },
         "zeroline": false
        },
        "yaxis": {
         "autorange": false,
         "gridcolor": "#FFFFFF",
         "linecolor": "#000",
         "linewidth": 1,
         "range": [
          0,
          3
         ],
         "title": {
          "text": "Number of Times in a Brew"
         }
        }
       }
      },
      "text/html": [
       "<div id=\"991d2914-e947-4d30-b06b-061fa803294f\" style=\"height: 525px; width: 100%;\" class=\"plotly-graph-div\"></div><script type=\"text/javascript\">require([\"plotly\"], function(Plotly) { window.PLOTLYENV=window.PLOTLYENV || {};window.PLOTLYENV.BASE_URL=\"https://plot.ly\";\n",
       "        Plotly.plot(\n",
       "            '991d2914-e947-4d30-b06b-061fa803294f',\n",
       "            [{\"x\": [\"Citra\", \"Centennial\", \"Columbus\", \"Amarillo\", \"Simcoe\", \"Magnum\", \"Bramling Cross\", \"Columbus Extract\", \"Chinook\", \"Perle\", \"Cascade\", \"Mosaic\", \"Equinox\", \"Enigma\", \"Coriander\", \"Sorachi Ace\", \"Honey\", \"Galena\", \"Willamette\", \"Nelson Sauvin\"], \"y\": [0, 0, 0, 1, 0, 0, 0, 0, 1, 0, 0, 0, 0, 0, 0, 0, 0, 0, 0, 0], \"type\": \"bar\", \"uid\": \"9d61268b-4eb5-4cda-8969-b0446f922c0c\"}],\n",
       "            {\"hovermode\": \"closest\", \"images\": [{\"sizex\": 0.3, \"sizey\": 0.3, \"source\": \"https://raw.githubusercontent.com/emperorcal/punk-ipython/master/brewdog-logo.jpg\", \"x\": 1, \"xanchor\": \"right\", \"xref\": \"paper\", \"y\": 1.05, \"yanchor\": \"bottom\", \"yref\": \"paper\"}], \"sliders\": [{\"active\": 0, \"currentvalue\": {\"font\": {\"size\": 20}, \"prefix\": \"Year:\", \"visible\": true, \"xanchor\": \"right\"}, \"len\": 0.9, \"pad\": {\"b\": 10, \"t\": 50}, \"steps\": [{\"args\": [[\"2007\"], {\"frame\": {\"duration\": 300, \"redraw\": true}, \"mode\": \"immediate\", \"transition\": {\"duration\": 300}}], \"label\": \"2007\", \"method\": \"animate\"}, {\"args\": [[\"2008\"], {\"frame\": {\"duration\": 300, \"redraw\": true}, \"mode\": \"immediate\", \"transition\": {\"duration\": 300}}], \"label\": \"2008\", \"method\": \"animate\"}, {\"args\": [[\"2009\"], {\"frame\": {\"duration\": 300, \"redraw\": true}, \"mode\": \"immediate\", \"transition\": {\"duration\": 300}}], \"label\": \"2009\", \"method\": \"animate\"}, {\"args\": [[\"2010\"], {\"frame\": {\"duration\": 300, \"redraw\": true}, \"mode\": \"immediate\", \"transition\": {\"duration\": 300}}], \"label\": \"2010\", \"method\": \"animate\"}, {\"args\": [[\"2011\"], {\"frame\": {\"duration\": 300, \"redraw\": true}, \"mode\": \"immediate\", \"transition\": {\"duration\": 300}}], \"label\": \"2011\", \"method\": \"animate\"}, {\"args\": [[\"2012\"], {\"frame\": {\"duration\": 300, \"redraw\": true}, \"mode\": \"immediate\", \"transition\": {\"duration\": 300}}], \"label\": \"2012\", \"method\": \"animate\"}, {\"args\": [[\"2013\"], {\"frame\": {\"duration\": 300, \"redraw\": true}, \"mode\": \"immediate\", \"transition\": {\"duration\": 300}}], \"label\": \"2013\", \"method\": \"animate\"}, {\"args\": [[\"2014\"], {\"frame\": {\"duration\": 300, \"redraw\": true}, \"mode\": \"immediate\", \"transition\": {\"duration\": 300}}], \"label\": \"2014\", \"method\": \"animate\"}, {\"args\": [[\"2015\"], {\"frame\": {\"duration\": 300, \"redraw\": true}, \"mode\": \"immediate\", \"transition\": {\"duration\": 300}}], \"label\": \"2015\", \"method\": \"animate\"}, {\"args\": [[\"2016\"], {\"frame\": {\"duration\": 300, \"redraw\": true}, \"mode\": \"immediate\", \"transition\": {\"duration\": 300}}], \"label\": \"2016\", \"method\": \"animate\"}], \"transition\": {\"duration\": 300, \"easing\": \"cubic-in-out\"}, \"x\": 0.1, \"xanchor\": \"left\", \"y\": -0.3, \"yanchor\": \"top\"}], \"title\": {\"text\": \"Hopping Over the Years<br><i>Brewdog hop choice per year</i>\"}, \"updatemenus\": [{\"buttons\": [{\"args\": [null, {\"frame\": {\"duration\": 500, \"redraw\": true}, \"fromcurrent\": true, \"transition\": {\"duration\": 300, \"easing\": \"quadratic-in-out\"}}], \"label\": \"Play\", \"method\": \"animate\"}, {\"args\": [null, {\"frame\": {\"duration\": 0, \"redraw\": true}, \"fromcurrent\": true, \"mode\": \"immediate\", \"transition\": {\"duration\": 0}}], \"label\": \"End\", \"method\": \"animate\"}], \"direction\": \"left\", \"pad\": {\"r\": 10, \"t\": 87}, \"showactive\": false, \"type\": \"buttons\", \"x\": 0.1, \"xanchor\": \"right\", \"y\": -0.3, \"yanchor\": \"top\"}], \"xaxis\": {\"autorange\": true, \"gridcolor\": \"#FFFFFF\", \"linecolor\": \"#000\", \"linewidth\": 1, \"tickangle\": -45, \"title\": {\"text\": \"Hop\"}, \"zeroline\": false}, \"yaxis\": {\"autorange\": false, \"gridcolor\": \"#FFFFFF\", \"linecolor\": \"#000\", \"linewidth\": 1, \"range\": [0, 3], \"title\": {\"text\": \"Number of Times in a Brew\"}}},\n",
       "            {\"showLink\": false, \"linkText\": \"Export to plot.ly\", \"plotlyServerURL\": \"https://plot.ly\"}\n",
       "        ).then(function () {return Plotly.addFrames('991d2914-e947-4d30-b06b-061fa803294f',[{\"data\": [{\"marker\": {\"color\": \"#cbcfd6\", \"line\": {\"color\": \"rgb(0, 0, 0)\", \"width\": 2}}, \"x\": [\"Citra\", \"Centennial\", \"Columbus\", \"Amarillo\", \"Simcoe\", \"Magnum\", \"Bramling Cross\", \"Columbus Extract\", \"Chinook\", \"Perle\", \"Cascade\", \"Mosaic\", \"Equinox\", \"Enigma\", \"Coriander\", \"Sorachi Ace\", \"Honey\", \"Galena\", \"Willamette\", \"Nelson Sauvin\"], \"y\": [0, 0, 0, 1, 0, 0, 0, 0, 1, 0, 0, 0, 0, 0, 0, 0, 0, 0, 0, 0], \"type\": \"bar\"}], \"name\": \"2007\"}, {\"data\": [{\"marker\": {\"color\": \"#cbcfd6\", \"line\": {\"color\": \"rgb(0, 0, 0)\", \"width\": 2}}, \"x\": [\"Citra\", \"Centennial\", \"Columbus\", \"Amarillo\", \"Simcoe\", \"Magnum\", \"Bramling Cross\", \"Columbus Extract\", \"Chinook\", \"Perle\", \"Cascade\", \"Mosaic\", \"Equinox\", \"Enigma\", \"Coriander\", \"Sorachi Ace\", \"Honey\", \"Galena\", \"Willamette\", \"Nelson Sauvin\"], \"y\": [0, 0, 0, 0, 0, 0, 1, 0, 1, 0, 1, 0, 0, 0, 0, 0, 0, 0, 0, 0], \"type\": \"bar\"}], \"name\": \"2008\"}, {\"data\": [{\"marker\": {\"color\": \"#cbcfd6\", \"line\": {\"color\": \"rgb(0, 0, 0)\", \"width\": 2}}, \"x\": [\"Citra\", \"Centennial\", \"Columbus\", \"Amarillo\", \"Simcoe\", \"Magnum\", \"Bramling Cross\", \"Columbus Extract\", \"Chinook\", \"Perle\", \"Cascade\", \"Mosaic\", \"Equinox\", \"Enigma\", \"Coriander\", \"Sorachi Ace\", \"Honey\", \"Galena\", \"Willamette\", \"Nelson Sauvin\"], \"y\": [0, 2, 2, 1, 2, 1, 0, 0, 3, 0, 0, 0, 0, 0, 0, 0, 0, 3, 0, 0], \"type\": \"bar\"}], \"name\": \"2009\"}, {\"data\": [{\"marker\": {\"color\": \"#cbcfd6\", \"line\": {\"color\": \"rgb(0, 0, 0)\", \"width\": 2}}, \"x\": [\"Citra\", \"Centennial\", \"Columbus\", \"Amarillo\", \"Simcoe\", \"Magnum\", \"Bramling Cross\", \"Columbus Extract\", \"Chinook\", \"Perle\", \"Cascade\", \"Mosaic\", \"Equinox\", \"Enigma\", \"Coriander\", \"Sorachi Ace\", \"Honey\", \"Galena\", \"Willamette\", \"Nelson Sauvin\"], \"y\": [0, 1, 3, 0, 1, 1, 0, 0, 0, 0, 0, 0, 0, 0, 0, 1, 0, 0, 0, 0], \"type\": \"bar\"}], \"name\": \"2010\"}, {\"data\": [{\"marker\": {\"color\": \"#cbcfd6\", \"line\": {\"color\": \"rgb(0, 0, 0)\", \"width\": 2}}, \"x\": [\"Citra\", \"Centennial\", \"Columbus\", \"Amarillo\", \"Simcoe\", \"Magnum\", \"Bramling Cross\", \"Columbus Extract\", \"Chinook\", \"Perle\", \"Cascade\", \"Mosaic\", \"Equinox\", \"Enigma\", \"Coriander\", \"Sorachi Ace\", \"Honey\", \"Galena\", \"Willamette\", \"Nelson Sauvin\"], \"y\": [0, 1, 1, 1, 0, 1, 1, 0, 1, 0, 2, 0, 0, 0, 0, 0, 0, 1, 0, 0], \"type\": \"bar\"}], \"name\": \"2011\"}, {\"data\": [{\"marker\": {\"color\": \"#cbcfd6\", \"line\": {\"color\": \"rgb(0, 0, 0)\", \"width\": 2}}, \"x\": [\"Citra\", \"Centennial\", \"Columbus\", \"Amarillo\", \"Simcoe\", \"Magnum\", \"Bramling Cross\", \"Columbus Extract\", \"Chinook\", \"Perle\", \"Cascade\", \"Mosaic\", \"Equinox\", \"Enigma\", \"Coriander\", \"Sorachi Ace\", \"Honey\", \"Galena\", \"Willamette\", \"Nelson Sauvin\"], \"y\": [1, 2, 2, 3, 4, 1, 0, 1, 1, 0, 3, 1, 0, 0, 0, 0, 0, 0, 0, 1], \"type\": \"bar\"}], \"name\": \"2012\"}, {\"data\": [{\"marker\": {\"color\": \"#cbcfd6\", \"line\": {\"color\": \"rgb(0, 0, 0)\", \"width\": 2}}, \"x\": [\"Citra\", \"Centennial\", \"Columbus\", \"Amarillo\", \"Simcoe\", \"Magnum\", \"Bramling Cross\", \"Columbus Extract\", \"Chinook\", \"Perle\", \"Cascade\", \"Mosaic\", \"Equinox\", \"Enigma\", \"Coriander\", \"Sorachi Ace\", \"Honey\", \"Galena\", \"Willamette\", \"Nelson Sauvin\"], \"y\": [0, 2, 1, 2, 1, 3, 1, 0, 0, 0, 2, 1, 0, 0, 0, 0, 0, 0, 1, 0], \"type\": \"bar\"}], \"name\": \"2013\"}, {\"data\": [{\"marker\": {\"color\": \"#cbcfd6\", \"line\": {\"color\": \"rgb(0, 0, 0)\", \"width\": 2}}, \"x\": [\"Citra\", \"Centennial\", \"Columbus\", \"Amarillo\", \"Simcoe\", \"Magnum\", \"Bramling Cross\", \"Columbus Extract\", \"Chinook\", \"Perle\", \"Cascade\", \"Mosaic\", \"Equinox\", \"Enigma\", \"Coriander\", \"Sorachi Ace\", \"Honey\", \"Galena\", \"Willamette\", \"Nelson Sauvin\"], \"y\": [4, 5, 2, 6, 3, 0, 0, 0, 2, 0, 4, 1, 0, 0, 0, 0, 0, 0, 0, 0], \"type\": \"bar\"}], \"name\": \"2014\"}, {\"data\": [{\"marker\": {\"color\": \"#cbcfd6\", \"line\": {\"color\": \"rgb(0, 0, 0)\", \"width\": 2}}, \"x\": [\"Citra\", \"Centennial\", \"Columbus\", \"Amarillo\", \"Simcoe\", \"Magnum\", \"Bramling Cross\", \"Columbus Extract\", \"Chinook\", \"Perle\", \"Cascade\", \"Mosaic\", \"Equinox\", \"Enigma\", \"Coriander\", \"Sorachi Ace\", \"Honey\", \"Galena\", \"Willamette\", \"Nelson Sauvin\"], \"y\": [4, 3, 0, 6, 3, 1, 2, 0, 4, 0, 1, 5, 0, 0, 0, 1, 1, 1, 2, 2], \"type\": \"bar\"}], \"name\": \"2015\"}, {\"data\": [{\"marker\": {\"color\": \"#cbcfd6\", \"line\": {\"color\": \"rgb(0, 0, 0)\", \"width\": 2}}, \"x\": [\"Citra\", \"Centennial\", \"Columbus\", \"Amarillo\", \"Simcoe\", \"Magnum\", \"Bramling Cross\", \"Columbus Extract\", \"Chinook\", \"Perle\", \"Cascade\", \"Mosaic\", \"Equinox\", \"Enigma\", \"Coriander\", \"Sorachi Ace\", \"Honey\", \"Galena\", \"Willamette\", \"Nelson Sauvin\"], \"y\": [13, 12, 11, 9, 8, 6, 6, 5, 4, 4, 4, 3, 3, 2, 2, 2, 2, 2, 2, 1], \"type\": \"bar\"}], \"name\": \"2016\"}]);}).then(function(){Plotly.animate('991d2914-e947-4d30-b06b-061fa803294f');})\n",
       "        });</script><script type=\"text/javascript\">window.addEventListener(\"resize\", function(){window._Plotly.Plots.resize(document.getElementById(\"991d2914-e947-4d30-b06b-061fa803294f\"));});</script>"
      ],
      "text/vnd.plotly.v1+html": [
       "<div id=\"991d2914-e947-4d30-b06b-061fa803294f\" style=\"height: 525px; width: 100%;\" class=\"plotly-graph-div\"></div><script type=\"text/javascript\">require([\"plotly\"], function(Plotly) { window.PLOTLYENV=window.PLOTLYENV || {};window.PLOTLYENV.BASE_URL=\"https://plot.ly\";\n",
       "        Plotly.plot(\n",
       "            '991d2914-e947-4d30-b06b-061fa803294f',\n",
       "            [{\"x\": [\"Citra\", \"Centennial\", \"Columbus\", \"Amarillo\", \"Simcoe\", \"Magnum\", \"Bramling Cross\", \"Columbus Extract\", \"Chinook\", \"Perle\", \"Cascade\", \"Mosaic\", \"Equinox\", \"Enigma\", \"Coriander\", \"Sorachi Ace\", \"Honey\", \"Galena\", \"Willamette\", \"Nelson Sauvin\"], \"y\": [0, 0, 0, 1, 0, 0, 0, 0, 1, 0, 0, 0, 0, 0, 0, 0, 0, 0, 0, 0], \"type\": \"bar\", \"uid\": \"9d61268b-4eb5-4cda-8969-b0446f922c0c\"}],\n",
       "            {\"hovermode\": \"closest\", \"images\": [{\"sizex\": 0.3, \"sizey\": 0.3, \"source\": \"https://raw.githubusercontent.com/emperorcal/punk-ipython/master/brewdog-logo.jpg\", \"x\": 1, \"xanchor\": \"right\", \"xref\": \"paper\", \"y\": 1.05, \"yanchor\": \"bottom\", \"yref\": \"paper\"}], \"sliders\": [{\"active\": 0, \"currentvalue\": {\"font\": {\"size\": 20}, \"prefix\": \"Year:\", \"visible\": true, \"xanchor\": \"right\"}, \"len\": 0.9, \"pad\": {\"b\": 10, \"t\": 50}, \"steps\": [{\"args\": [[\"2007\"], {\"frame\": {\"duration\": 300, \"redraw\": true}, \"mode\": \"immediate\", \"transition\": {\"duration\": 300}}], \"label\": \"2007\", \"method\": \"animate\"}, {\"args\": [[\"2008\"], {\"frame\": {\"duration\": 300, \"redraw\": true}, \"mode\": \"immediate\", \"transition\": {\"duration\": 300}}], \"label\": \"2008\", \"method\": \"animate\"}, {\"args\": [[\"2009\"], {\"frame\": {\"duration\": 300, \"redraw\": true}, \"mode\": \"immediate\", \"transition\": {\"duration\": 300}}], \"label\": \"2009\", \"method\": \"animate\"}, {\"args\": [[\"2010\"], {\"frame\": {\"duration\": 300, \"redraw\": true}, \"mode\": \"immediate\", \"transition\": {\"duration\": 300}}], \"label\": \"2010\", \"method\": \"animate\"}, {\"args\": [[\"2011\"], {\"frame\": {\"duration\": 300, \"redraw\": true}, \"mode\": \"immediate\", \"transition\": {\"duration\": 300}}], \"label\": \"2011\", \"method\": \"animate\"}, {\"args\": [[\"2012\"], {\"frame\": {\"duration\": 300, \"redraw\": true}, \"mode\": \"immediate\", \"transition\": {\"duration\": 300}}], \"label\": \"2012\", \"method\": \"animate\"}, {\"args\": [[\"2013\"], {\"frame\": {\"duration\": 300, \"redraw\": true}, \"mode\": \"immediate\", \"transition\": {\"duration\": 300}}], \"label\": \"2013\", \"method\": \"animate\"}, {\"args\": [[\"2014\"], {\"frame\": {\"duration\": 300, \"redraw\": true}, \"mode\": \"immediate\", \"transition\": {\"duration\": 300}}], \"label\": \"2014\", \"method\": \"animate\"}, {\"args\": [[\"2015\"], {\"frame\": {\"duration\": 300, \"redraw\": true}, \"mode\": \"immediate\", \"transition\": {\"duration\": 300}}], \"label\": \"2015\", \"method\": \"animate\"}, {\"args\": [[\"2016\"], {\"frame\": {\"duration\": 300, \"redraw\": true}, \"mode\": \"immediate\", \"transition\": {\"duration\": 300}}], \"label\": \"2016\", \"method\": \"animate\"}], \"transition\": {\"duration\": 300, \"easing\": \"cubic-in-out\"}, \"x\": 0.1, \"xanchor\": \"left\", \"y\": -0.3, \"yanchor\": \"top\"}], \"title\": {\"text\": \"Hopping Over the Years<br><i>Brewdog hop choice per year</i>\"}, \"updatemenus\": [{\"buttons\": [{\"args\": [null, {\"frame\": {\"duration\": 500, \"redraw\": true}, \"fromcurrent\": true, \"transition\": {\"duration\": 300, \"easing\": \"quadratic-in-out\"}}], \"label\": \"Play\", \"method\": \"animate\"}, {\"args\": [null, {\"frame\": {\"duration\": 0, \"redraw\": true}, \"fromcurrent\": true, \"mode\": \"immediate\", \"transition\": {\"duration\": 0}}], \"label\": \"End\", \"method\": \"animate\"}], \"direction\": \"left\", \"pad\": {\"r\": 10, \"t\": 87}, \"showactive\": false, \"type\": \"buttons\", \"x\": 0.1, \"xanchor\": \"right\", \"y\": -0.3, \"yanchor\": \"top\"}], \"xaxis\": {\"autorange\": true, \"gridcolor\": \"#FFFFFF\", \"linecolor\": \"#000\", \"linewidth\": 1, \"tickangle\": -45, \"title\": {\"text\": \"Hop\"}, \"zeroline\": false}, \"yaxis\": {\"autorange\": false, \"gridcolor\": \"#FFFFFF\", \"linecolor\": \"#000\", \"linewidth\": 1, \"range\": [0, 3], \"title\": {\"text\": \"Number of Times in a Brew\"}}},\n",
       "            {\"showLink\": false, \"linkText\": \"Export to plot.ly\", \"plotlyServerURL\": \"https://plot.ly\"}\n",
       "        ).then(function () {return Plotly.addFrames('991d2914-e947-4d30-b06b-061fa803294f',[{\"data\": [{\"marker\": {\"color\": \"#cbcfd6\", \"line\": {\"color\": \"rgb(0, 0, 0)\", \"width\": 2}}, \"x\": [\"Citra\", \"Centennial\", \"Columbus\", \"Amarillo\", \"Simcoe\", \"Magnum\", \"Bramling Cross\", \"Columbus Extract\", \"Chinook\", \"Perle\", \"Cascade\", \"Mosaic\", \"Equinox\", \"Enigma\", \"Coriander\", \"Sorachi Ace\", \"Honey\", \"Galena\", \"Willamette\", \"Nelson Sauvin\"], \"y\": [0, 0, 0, 1, 0, 0, 0, 0, 1, 0, 0, 0, 0, 0, 0, 0, 0, 0, 0, 0], \"type\": \"bar\"}], \"name\": \"2007\"}, {\"data\": [{\"marker\": {\"color\": \"#cbcfd6\", \"line\": {\"color\": \"rgb(0, 0, 0)\", \"width\": 2}}, \"x\": [\"Citra\", \"Centennial\", \"Columbus\", \"Amarillo\", \"Simcoe\", \"Magnum\", \"Bramling Cross\", \"Columbus Extract\", \"Chinook\", \"Perle\", \"Cascade\", \"Mosaic\", \"Equinox\", \"Enigma\", \"Coriander\", \"Sorachi Ace\", \"Honey\", \"Galena\", \"Willamette\", \"Nelson Sauvin\"], \"y\": [0, 0, 0, 0, 0, 0, 1, 0, 1, 0, 1, 0, 0, 0, 0, 0, 0, 0, 0, 0], \"type\": \"bar\"}], \"name\": \"2008\"}, {\"data\": [{\"marker\": {\"color\": \"#cbcfd6\", \"line\": {\"color\": \"rgb(0, 0, 0)\", \"width\": 2}}, \"x\": [\"Citra\", \"Centennial\", \"Columbus\", \"Amarillo\", \"Simcoe\", \"Magnum\", \"Bramling Cross\", \"Columbus Extract\", \"Chinook\", \"Perle\", \"Cascade\", \"Mosaic\", \"Equinox\", \"Enigma\", \"Coriander\", \"Sorachi Ace\", \"Honey\", \"Galena\", \"Willamette\", \"Nelson Sauvin\"], \"y\": [0, 2, 2, 1, 2, 1, 0, 0, 3, 0, 0, 0, 0, 0, 0, 0, 0, 3, 0, 0], \"type\": \"bar\"}], \"name\": \"2009\"}, {\"data\": [{\"marker\": {\"color\": \"#cbcfd6\", \"line\": {\"color\": \"rgb(0, 0, 0)\", \"width\": 2}}, \"x\": [\"Citra\", \"Centennial\", \"Columbus\", \"Amarillo\", \"Simcoe\", \"Magnum\", \"Bramling Cross\", \"Columbus Extract\", \"Chinook\", \"Perle\", \"Cascade\", \"Mosaic\", \"Equinox\", \"Enigma\", \"Coriander\", \"Sorachi Ace\", \"Honey\", \"Galena\", \"Willamette\", \"Nelson Sauvin\"], \"y\": [0, 1, 3, 0, 1, 1, 0, 0, 0, 0, 0, 0, 0, 0, 0, 1, 0, 0, 0, 0], \"type\": \"bar\"}], \"name\": \"2010\"}, {\"data\": [{\"marker\": {\"color\": \"#cbcfd6\", \"line\": {\"color\": \"rgb(0, 0, 0)\", \"width\": 2}}, \"x\": [\"Citra\", \"Centennial\", \"Columbus\", \"Amarillo\", \"Simcoe\", \"Magnum\", \"Bramling Cross\", \"Columbus Extract\", \"Chinook\", \"Perle\", \"Cascade\", \"Mosaic\", \"Equinox\", \"Enigma\", \"Coriander\", \"Sorachi Ace\", \"Honey\", \"Galena\", \"Willamette\", \"Nelson Sauvin\"], \"y\": [0, 1, 1, 1, 0, 1, 1, 0, 1, 0, 2, 0, 0, 0, 0, 0, 0, 1, 0, 0], \"type\": \"bar\"}], \"name\": \"2011\"}, {\"data\": [{\"marker\": {\"color\": \"#cbcfd6\", \"line\": {\"color\": \"rgb(0, 0, 0)\", \"width\": 2}}, \"x\": [\"Citra\", \"Centennial\", \"Columbus\", \"Amarillo\", \"Simcoe\", \"Magnum\", \"Bramling Cross\", \"Columbus Extract\", \"Chinook\", \"Perle\", \"Cascade\", \"Mosaic\", \"Equinox\", \"Enigma\", \"Coriander\", \"Sorachi Ace\", \"Honey\", \"Galena\", \"Willamette\", \"Nelson Sauvin\"], \"y\": [1, 2, 2, 3, 4, 1, 0, 1, 1, 0, 3, 1, 0, 0, 0, 0, 0, 0, 0, 1], \"type\": \"bar\"}], \"name\": \"2012\"}, {\"data\": [{\"marker\": {\"color\": \"#cbcfd6\", \"line\": {\"color\": \"rgb(0, 0, 0)\", \"width\": 2}}, \"x\": [\"Citra\", \"Centennial\", \"Columbus\", \"Amarillo\", \"Simcoe\", \"Magnum\", \"Bramling Cross\", \"Columbus Extract\", \"Chinook\", \"Perle\", \"Cascade\", \"Mosaic\", \"Equinox\", \"Enigma\", \"Coriander\", \"Sorachi Ace\", \"Honey\", \"Galena\", \"Willamette\", \"Nelson Sauvin\"], \"y\": [0, 2, 1, 2, 1, 3, 1, 0, 0, 0, 2, 1, 0, 0, 0, 0, 0, 0, 1, 0], \"type\": \"bar\"}], \"name\": \"2013\"}, {\"data\": [{\"marker\": {\"color\": \"#cbcfd6\", \"line\": {\"color\": \"rgb(0, 0, 0)\", \"width\": 2}}, \"x\": [\"Citra\", \"Centennial\", \"Columbus\", \"Amarillo\", \"Simcoe\", \"Magnum\", \"Bramling Cross\", \"Columbus Extract\", \"Chinook\", \"Perle\", \"Cascade\", \"Mosaic\", \"Equinox\", \"Enigma\", \"Coriander\", \"Sorachi Ace\", \"Honey\", \"Galena\", \"Willamette\", \"Nelson Sauvin\"], \"y\": [4, 5, 2, 6, 3, 0, 0, 0, 2, 0, 4, 1, 0, 0, 0, 0, 0, 0, 0, 0], \"type\": \"bar\"}], \"name\": \"2014\"}, {\"data\": [{\"marker\": {\"color\": \"#cbcfd6\", \"line\": {\"color\": \"rgb(0, 0, 0)\", \"width\": 2}}, \"x\": [\"Citra\", \"Centennial\", \"Columbus\", \"Amarillo\", \"Simcoe\", \"Magnum\", \"Bramling Cross\", \"Columbus Extract\", \"Chinook\", \"Perle\", \"Cascade\", \"Mosaic\", \"Equinox\", \"Enigma\", \"Coriander\", \"Sorachi Ace\", \"Honey\", \"Galena\", \"Willamette\", \"Nelson Sauvin\"], \"y\": [4, 3, 0, 6, 3, 1, 2, 0, 4, 0, 1, 5, 0, 0, 0, 1, 1, 1, 2, 2], \"type\": \"bar\"}], \"name\": \"2015\"}, {\"data\": [{\"marker\": {\"color\": \"#cbcfd6\", \"line\": {\"color\": \"rgb(0, 0, 0)\", \"width\": 2}}, \"x\": [\"Citra\", \"Centennial\", \"Columbus\", \"Amarillo\", \"Simcoe\", \"Magnum\", \"Bramling Cross\", \"Columbus Extract\", \"Chinook\", \"Perle\", \"Cascade\", \"Mosaic\", \"Equinox\", \"Enigma\", \"Coriander\", \"Sorachi Ace\", \"Honey\", \"Galena\", \"Willamette\", \"Nelson Sauvin\"], \"y\": [13, 12, 11, 9, 8, 6, 6, 5, 4, 4, 4, 3, 3, 2, 2, 2, 2, 2, 2, 1], \"type\": \"bar\"}], \"name\": \"2016\"}]);}).then(function(){Plotly.animate('991d2914-e947-4d30-b06b-061fa803294f');})\n",
       "        });</script><script type=\"text/javascript\">window.addEventListener(\"resize\", function(){window._Plotly.Plots.resize(document.getElementById(\"991d2914-e947-4d30-b06b-061fa803294f\"));});</script>"
      ]
     },
     "metadata": {},
     "output_type": "display_data"
    }
   ],
   "source": [
    "#Plot figure\n",
    "iplot(figure)"
   ]
  },
  {
   "cell_type": "code",
   "execution_count": 28,
   "metadata": {},
   "outputs": [
    {
     "data": {
      "text/plain": [
       "[0, 0, 0, 1, 0, 0, 0, 0, 1, 0, 0, 0, 0, 0, 0, 0, 0, 0, 0, 0]"
      ]
     },
     "execution_count": 28,
     "metadata": {},
     "output_type": "execute_result"
    }
   ],
   "source": [
    "top_20_hops_df.iloc[:,1].tolist()"
   ]
  }
 ],
 "metadata": {
  "kernelspec": {
   "display_name": "Python 3",
   "language": "python",
   "name": "python3"
  },
  "language_info": {
   "codemirror_mode": {
    "name": "ipython",
    "version": 3
   },
   "file_extension": ".py",
   "mimetype": "text/x-python",
   "name": "python",
   "nbconvert_exporter": "python",
   "pygments_lexer": "ipython3",
   "version": "3.6.5"
  }
 },
 "nbformat": 4,
 "nbformat_minor": 2
}
