{
 "cells": [
  {
   "cell_type": "code",
   "execution_count": 5,
   "metadata": {},
   "outputs": [
    {
     "data": {
      "text/html": [
       "<script type=\"text/javascript\">window.PlotlyConfig = {MathJaxConfig: 'local'};</script><script type=\"text/javascript\">if (window.MathJax) {MathJax.Hub.Config({SVG: {font: \"STIX-Web\"}});}</script><script>requirejs.config({paths: { 'plotly': ['https://cdn.plot.ly/plotly-latest.min']},});if(!window._Plotly) {require(['plotly'],function(plotly) {window._Plotly=plotly;});}</script>"
      ],
      "text/vnd.plotly.v1+html": [
       "<script type=\"text/javascript\">window.PlotlyConfig = {MathJaxConfig: 'local'};</script><script type=\"text/javascript\">if (window.MathJax) {MathJax.Hub.Config({SVG: {font: \"STIX-Web\"}});}</script><script>requirejs.config({paths: { 'plotly': ['https://cdn.plot.ly/plotly-latest.min']},});if(!window._Plotly) {require(['plotly'],function(plotly) {window._Plotly=plotly;});}</script>"
      ]
     },
     "metadata": {},
     "output_type": "display_data"
    },
    {
     "data": {
      "application/vnd.plotly.v1+json": {
       "config": {
        "linkText": "Export to plot.ly",
        "plotlyServerURL": "https://plot.ly",
        "showLink": false
       },
       "data": [
        {
         "type": "bar",
         "uid": "39d72316-e9dc-4fb9-b04e-07ec149e5dfe",
         "x": [
          "A",
          "B",
          "C",
          "D"
         ],
         "y": [
          0,
          0,
          0,
          1
         ]
        }
       ],
       "frames": [
        {
         "data": [
          {
           "marker": {
            "color": "#cbcfd6",
            "line": {
             "color": "rgb(0, 0, 0)",
             "width": 2
            }
           },
           "type": "bar",
           "x": [
            "A",
            "B",
            "C",
            "D"
           ],
           "y": [
            0,
            0,
            0,
            1
           ]
          }
         ],
         "name": "2010"
        },
        {
         "data": [
          {
           "marker": {
            "color": "#cbcfd6",
            "line": {
             "color": "rgb(0, 0, 0)",
             "width": 2
            }
           },
           "type": "bar",
           "x": [
            "A",
            "B",
            "C",
            "D"
           ],
           "y": [
            0,
            0,
            1,
            1
           ]
          }
         ],
         "name": "2011"
        },
        {
         "data": [
          {
           "marker": {
            "color": "#cbcfd6",
            "line": {
             "color": "rgb(0, 0, 0)",
             "width": 2
            }
           },
           "type": "bar",
           "x": [
            "A",
            "B",
            "C",
            "D"
           ],
           "y": [
            0,
            1,
            0,
            1
           ]
          }
         ],
         "name": "2012"
        }
       ],
       "layout": {
        "hovermode": "closest",
        "images": [
         {
          "sizex": 0.3,
          "sizey": 0.3,
          "source": "https://raw.githubusercontent.com/emperorcal/punk-ipython/master/brewdog-logo.jpg",
          "x": 1,
          "xanchor": "right",
          "xref": "paper",
          "y": 1.05,
          "yanchor": "bottom",
          "yref": "paper"
         }
        ],
        "sliders": [
         {
          "active": 0,
          "currentvalue": {
           "font": {
            "size": 20
           },
           "prefix": "Year:",
           "visible": true,
           "xanchor": "right"
          },
          "len": 0.9,
          "pad": {
           "b": 10,
           "t": 50
          },
          "steps": [
           {
            "args": [
             [
              "2010"
             ],
             {
              "frame": {
               "duration": 300,
               "redraw": true
              },
              "mode": "immediate",
              "transition": {
               "duration": 300
              }
             }
            ],
            "label": "2010",
            "method": "animate"
           },
           {
            "args": [
             [
              "2011"
             ],
             {
              "frame": {
               "duration": 300,
               "redraw": true
              },
              "mode": "immediate",
              "transition": {
               "duration": 300
              }
             }
            ],
            "label": "2011",
            "method": "animate"
           },
           {
            "args": [
             [
              "2012"
             ],
             {
              "frame": {
               "duration": 300,
               "redraw": true
              },
              "mode": "immediate",
              "transition": {
               "duration": 300
              }
             }
            ],
            "label": "2012",
            "method": "animate"
           }
          ],
          "transition": {
           "duration": 300,
           "easing": "cubic-in-out"
          },
          "x": 0.1,
          "xanchor": "left",
          "y": 0,
          "yanchor": "top"
         }
        ],
        "title": {
         "text": "Hopping Over the Years<br><i>Brewdog hop choice per year</i>"
        },
        "updatemenus": [
         {
          "buttons": [
           {
            "args": [
             null,
             {
              "frame": {
               "duration": 500,
               "redraw": true
              },
              "fromcurrent": true,
              "transition": {
               "duration": 300,
               "easing": "quadratic-in-out"
              }
             }
            ],
            "label": "Play",
            "method": "animate"
           },
           {
            "args": [
             null,
             {
              "frame": {
               "duration": 0,
               "redraw": true
              },
              "fromcurrent": true,
              "mode": "immediate",
              "transition": {
               "duration": 0
              }
             }
            ],
            "label": "End",
            "method": "animate"
           }
          ],
          "direction": "left",
          "pad": {
           "r": 10,
           "t": 87
          },
          "showactive": false,
          "type": "buttons",
          "x": 0.1,
          "xanchor": "right",
          "y": 0,
          "yanchor": "top"
         }
        ],
        "xaxis": {
         "autorange": false,
         "gridcolor": "#FFFFFF",
         "linecolor": "#000",
         "linewidth": 1,
         "title": {
          "text": "Hop"
         },
         "zeroline": false
        },
        "yaxis": {
         "autorange": false,
         "gridcolor": "#FFFFFF",
         "linecolor": "#000",
         "linewidth": 1,
         "range": [
          0,
          5
         ],
         "title": {
          "text": "Number of Times in a Brew"
         }
        }
       }
      },
      "text/html": [
       "<div id=\"a3d4ea28-723d-4dfb-b8b7-aa77a0074972\" style=\"height: 525px; width: 100%;\" class=\"plotly-graph-div\"></div><script type=\"text/javascript\">require([\"plotly\"], function(Plotly) { window.PLOTLYENV=window.PLOTLYENV || {};window.PLOTLYENV.BASE_URL=\"https://plot.ly\";\n",
       "        Plotly.plot(\n",
       "            'a3d4ea28-723d-4dfb-b8b7-aa77a0074972',\n",
       "            [{\"x\": [\"A\", \"B\", \"C\", \"D\"], \"y\": [0, 0, 0, 1], \"type\": \"bar\", \"uid\": \"b932a957-9be1-4c3e-879a-8cd8eb8ede57\"}],\n",
       "            {\"hovermode\": \"closest\", \"images\": [{\"sizex\": 0.3, \"sizey\": 0.3, \"source\": \"https://raw.githubusercontent.com/emperorcal/punk-ipython/master/brewdog-logo.jpg\", \"x\": 1, \"xanchor\": \"right\", \"xref\": \"paper\", \"y\": 1.05, \"yanchor\": \"bottom\", \"yref\": \"paper\"}], \"sliders\": [{\"active\": 0, \"currentvalue\": {\"font\": {\"size\": 20}, \"prefix\": \"Year:\", \"visible\": true, \"xanchor\": \"right\"}, \"len\": 0.9, \"pad\": {\"b\": 10, \"t\": 50}, \"steps\": [{\"args\": [[\"2010\"], {\"frame\": {\"duration\": 300, \"redraw\": true}, \"mode\": \"immediate\", \"transition\": {\"duration\": 300}}], \"label\": \"2010\", \"method\": \"animate\"}, {\"args\": [[\"2011\"], {\"frame\": {\"duration\": 300, \"redraw\": true}, \"mode\": \"immediate\", \"transition\": {\"duration\": 300}}], \"label\": \"2011\", \"method\": \"animate\"}, {\"args\": [[\"2012\"], {\"frame\": {\"duration\": 300, \"redraw\": true}, \"mode\": \"immediate\", \"transition\": {\"duration\": 300}}], \"label\": \"2012\", \"method\": \"animate\"}], \"transition\": {\"duration\": 300, \"easing\": \"cubic-in-out\"}, \"x\": 0.1, \"xanchor\": \"left\", \"y\": 0, \"yanchor\": \"top\"}], \"title\": {\"text\": \"Hopping Over the Years<br><i>Brewdog hop choice per year</i>\"}, \"updatemenus\": [{\"buttons\": [{\"args\": [null, {\"frame\": {\"duration\": 500, \"redraw\": true}, \"fromcurrent\": true, \"transition\": {\"duration\": 300, \"easing\": \"quadratic-in-out\"}}], \"label\": \"Play\", \"method\": \"animate\"}, {\"args\": [null, {\"frame\": {\"duration\": 0, \"redraw\": true}, \"fromcurrent\": true, \"mode\": \"immediate\", \"transition\": {\"duration\": 0}}], \"label\": \"End\", \"method\": \"animate\"}], \"direction\": \"left\", \"pad\": {\"r\": 10, \"t\": 87}, \"showactive\": false, \"type\": \"buttons\", \"x\": 0.1, \"xanchor\": \"right\", \"y\": 0, \"yanchor\": \"top\"}], \"xaxis\": {\"autorange\": false, \"gridcolor\": \"#FFFFFF\", \"linecolor\": \"#000\", \"linewidth\": 1, \"title\": {\"text\": \"Hop\"}, \"zeroline\": false}, \"yaxis\": {\"autorange\": false, \"gridcolor\": \"#FFFFFF\", \"linecolor\": \"#000\", \"linewidth\": 1, \"range\": [0, 5], \"title\": {\"text\": \"Number of Times in a Brew\"}}},\n",
       "            {\"showLink\": false, \"linkText\": \"Export to plot.ly\", \"plotlyServerURL\": \"https://plot.ly\"}\n",
       "        ).then(function () {return Plotly.addFrames('a3d4ea28-723d-4dfb-b8b7-aa77a0074972',[{\"data\": [{\"marker\": {\"color\": \"#cbcfd6\", \"line\": {\"color\": \"rgb(0, 0, 0)\", \"width\": 2}}, \"x\": [\"A\", \"B\", \"C\", \"D\"], \"y\": [0, 0, 0, 1], \"type\": \"bar\"}], \"name\": \"2010\"}, {\"data\": [{\"marker\": {\"color\": \"#cbcfd6\", \"line\": {\"color\": \"rgb(0, 0, 0)\", \"width\": 2}}, \"x\": [\"A\", \"B\", \"C\", \"D\"], \"y\": [0, 0, 1, 1], \"type\": \"bar\"}], \"name\": \"2011\"}, {\"data\": [{\"marker\": {\"color\": \"#cbcfd6\", \"line\": {\"color\": \"rgb(0, 0, 0)\", \"width\": 2}}, \"x\": [\"A\", \"B\", \"C\", \"D\"], \"y\": [0, 1, 0, 1], \"type\": \"bar\"}], \"name\": \"2012\"}]);}).then(function(){Plotly.animate('a3d4ea28-723d-4dfb-b8b7-aa77a0074972');})\n",
       "        });</script><script type=\"text/javascript\">window.addEventListener(\"resize\", function(){window._Plotly.Plots.resize(document.getElementById(\"a3d4ea28-723d-4dfb-b8b7-aa77a0074972\"));});</script>"
      ],
      "text/vnd.plotly.v1+html": [
       "<div id=\"a3d4ea28-723d-4dfb-b8b7-aa77a0074972\" style=\"height: 525px; width: 100%;\" class=\"plotly-graph-div\"></div><script type=\"text/javascript\">require([\"plotly\"], function(Plotly) { window.PLOTLYENV=window.PLOTLYENV || {};window.PLOTLYENV.BASE_URL=\"https://plot.ly\";\n",
       "        Plotly.plot(\n",
       "            'a3d4ea28-723d-4dfb-b8b7-aa77a0074972',\n",
       "            [{\"x\": [\"A\", \"B\", \"C\", \"D\"], \"y\": [0, 0, 0, 1], \"type\": \"bar\", \"uid\": \"b932a957-9be1-4c3e-879a-8cd8eb8ede57\"}],\n",
       "            {\"hovermode\": \"closest\", \"images\": [{\"sizex\": 0.3, \"sizey\": 0.3, \"source\": \"https://raw.githubusercontent.com/emperorcal/punk-ipython/master/brewdog-logo.jpg\", \"x\": 1, \"xanchor\": \"right\", \"xref\": \"paper\", \"y\": 1.05, \"yanchor\": \"bottom\", \"yref\": \"paper\"}], \"sliders\": [{\"active\": 0, \"currentvalue\": {\"font\": {\"size\": 20}, \"prefix\": \"Year:\", \"visible\": true, \"xanchor\": \"right\"}, \"len\": 0.9, \"pad\": {\"b\": 10, \"t\": 50}, \"steps\": [{\"args\": [[\"2010\"], {\"frame\": {\"duration\": 300, \"redraw\": true}, \"mode\": \"immediate\", \"transition\": {\"duration\": 300}}], \"label\": \"2010\", \"method\": \"animate\"}, {\"args\": [[\"2011\"], {\"frame\": {\"duration\": 300, \"redraw\": true}, \"mode\": \"immediate\", \"transition\": {\"duration\": 300}}], \"label\": \"2011\", \"method\": \"animate\"}, {\"args\": [[\"2012\"], {\"frame\": {\"duration\": 300, \"redraw\": true}, \"mode\": \"immediate\", \"transition\": {\"duration\": 300}}], \"label\": \"2012\", \"method\": \"animate\"}], \"transition\": {\"duration\": 300, \"easing\": \"cubic-in-out\"}, \"x\": 0.1, \"xanchor\": \"left\", \"y\": 0, \"yanchor\": \"top\"}], \"title\": {\"text\": \"Hopping Over the Years<br><i>Brewdog hop choice per year</i>\"}, \"updatemenus\": [{\"buttons\": [{\"args\": [null, {\"frame\": {\"duration\": 500, \"redraw\": true}, \"fromcurrent\": true, \"transition\": {\"duration\": 300, \"easing\": \"quadratic-in-out\"}}], \"label\": \"Play\", \"method\": \"animate\"}, {\"args\": [null, {\"frame\": {\"duration\": 0, \"redraw\": true}, \"fromcurrent\": true, \"mode\": \"immediate\", \"transition\": {\"duration\": 0}}], \"label\": \"End\", \"method\": \"animate\"}], \"direction\": \"left\", \"pad\": {\"r\": 10, \"t\": 87}, \"showactive\": false, \"type\": \"buttons\", \"x\": 0.1, \"xanchor\": \"right\", \"y\": 0, \"yanchor\": \"top\"}], \"xaxis\": {\"autorange\": false, \"gridcolor\": \"#FFFFFF\", \"linecolor\": \"#000\", \"linewidth\": 1, \"title\": {\"text\": \"Hop\"}, \"zeroline\": false}, \"yaxis\": {\"autorange\": false, \"gridcolor\": \"#FFFFFF\", \"linecolor\": \"#000\", \"linewidth\": 1, \"range\": [0, 5], \"title\": {\"text\": \"Number of Times in a Brew\"}}},\n",
       "            {\"showLink\": false, \"linkText\": \"Export to plot.ly\", \"plotlyServerURL\": \"https://plot.ly\"}\n",
       "        ).then(function () {return Plotly.addFrames('a3d4ea28-723d-4dfb-b8b7-aa77a0074972',[{\"data\": [{\"marker\": {\"color\": \"#cbcfd6\", \"line\": {\"color\": \"rgb(0, 0, 0)\", \"width\": 2}}, \"x\": [\"A\", \"B\", \"C\", \"D\"], \"y\": [0, 0, 0, 1], \"type\": \"bar\"}], \"name\": \"2010\"}, {\"data\": [{\"marker\": {\"color\": \"#cbcfd6\", \"line\": {\"color\": \"rgb(0, 0, 0)\", \"width\": 2}}, \"x\": [\"A\", \"B\", \"C\", \"D\"], \"y\": [0, 0, 1, 1], \"type\": \"bar\"}], \"name\": \"2011\"}, {\"data\": [{\"marker\": {\"color\": \"#cbcfd6\", \"line\": {\"color\": \"rgb(0, 0, 0)\", \"width\": 2}}, \"x\": [\"A\", \"B\", \"C\", \"D\"], \"y\": [0, 1, 0, 1], \"type\": \"bar\"}], \"name\": \"2012\"}]);}).then(function(){Plotly.animate('a3d4ea28-723d-4dfb-b8b7-aa77a0074972');})\n",
       "        });</script><script type=\"text/javascript\">window.addEventListener(\"resize\", function(){window._Plotly.Plots.resize(document.getElementById(\"a3d4ea28-723d-4dfb-b8b7-aa77a0074972\"));});</script>"
      ]
     },
     "metadata": {},
     "output_type": "display_data"
    }
   ],
   "source": [
    "from plotly.offline import init_notebook_mode, iplot\n",
    "from IPython.display import display, HTML\n",
    "\n",
    "init_notebook_mode(connected = True)\n",
    "\n",
    "years = ['2010', '2011', '2012']\n",
    "hops = ['A', 'B', 'C', 'D']\n",
    "count = [\n",
    "  [0, 0, 0, 1],\n",
    "  [0, 0, 1, 1],\n",
    "  [0, 1, 0, 1]\n",
    "]\n",
    "\n",
    "figure = {\n",
    "  'data': [{\n",
    "    'type': 'bar',\n",
    "    'x': hops,\n",
    "    'y': count[0]\n",
    "  }],\n",
    "  'layout': {\n",
    "    'images': [{\n",
    "      'source': 'https://raw.githubusercontent.com/emperorcal/punk-ipython/master/brewdog-logo.jpg',\n",
    "      'xref': 'paper',\n",
    "      'yref': 'paper',\n",
    "      'x': 1,\n",
    "      'y': 1.05,\n",
    "      'sizex': 0.3,\n",
    "      'sizey': 0.3,\n",
    "      'xanchor': 'right',\n",
    "      'yanchor': 'bottom'\n",
    "    }],\n",
    "    'title': 'Brewdog Choice of Hops in a Brew Per Year',\n",
    "    'xaxis': {\n",
    "      'title': 'Hop',\n",
    "      'gridcolor': '#FFFFFF',\n",
    "      'linecolor': '#000',\n",
    "      'linewidth': 1,\n",
    "      'zeroline': False,\n",
    "      'autorange': False\n",
    "    },\n",
    "    'yaxis': {\n",
    "      'title': 'Number of Times in a Brew',\n",
    "      'gridcolor': '#FFFFFF',\n",
    "      'linecolor': '#000',\n",
    "      'linewidth': 1,\n",
    "      'range': [0, 5],\n",
    "      'autorange': False\n",
    "    },\n",
    "    'title': 'Hopping Over the Years<br><i>Brewdog hop choice per year</i>',\n",
    "    'hovermode': 'closest',\n",
    "    'updatemenus': [{\n",
    "      'type': 'buttons',\n",
    "      'buttons': [{\n",
    "          'label': 'Play',\n",
    "          'method': 'animate',\n",
    "          'args': [None, {\n",
    "            'frame': {\n",
    "              'duration': 500,\n",
    "              'redraw': True\n",
    "            },\n",
    "            'fromcurrent': True,\n",
    "            'transition': {\n",
    "              'duration': 300,\n",
    "              'easing': 'quadratic-in-out'\n",
    "            }\n",
    "          }]\n",
    "        },\n",
    "        {\n",
    "          'label': 'End',\n",
    "          'method': 'animate',\n",
    "          'args': [None, {\n",
    "            'frame': {\n",
    "              'duration': 0,\n",
    "              'redraw': True\n",
    "            },\n",
    "            'fromcurrent': True,\n",
    "            'mode': 'immediate',\n",
    "            'transition': {\n",
    "              'duration': 0\n",
    "            }\n",
    "          }]\n",
    "        }\n",
    "      ],\n",
    "      'direction': 'left',\n",
    "      'pad': {\n",
    "        'r': 10,\n",
    "        't': 87\n",
    "      },\n",
    "      'showactive': False,\n",
    "      'type': 'buttons',\n",
    "      'x': 0.1,\n",
    "      'xanchor': 'right',\n",
    "      'y': 0,\n",
    "      'yanchor': 'top'\n",
    "    }]\n",
    "  },\n",
    "  'frames': []\n",
    "}\n",
    "\n",
    "sliders_dict = {\n",
    "  'active': 0,\n",
    "  'yanchor': 'top',\n",
    "  'xanchor': 'left',\n",
    "  'currentvalue': {\n",
    "    'font': {\n",
    "      'size': 20\n",
    "    },\n",
    "    'prefix': 'Year:',\n",
    "    'visible': True,\n",
    "    'xanchor': 'right'\n",
    "  },\n",
    "  'transition': {\n",
    "    'duration': 300,\n",
    "    'easing': 'cubic-in-out'\n",
    "  },\n",
    "  'pad': {\n",
    "    'b': 10,\n",
    "    't': 50\n",
    "  },\n",
    "  'len': 0.9,\n",
    "  'x': 0.1,\n",
    "  'y': 0,\n",
    "  'steps': []\n",
    "}\n",
    "\n",
    "for index, year in enumerate(years):\n",
    "    frame = {\n",
    "        'data': [{\n",
    "          'type': 'bar',\n",
    "          'x': hops,\n",
    "          'y': count[index],\n",
    "          'marker': {\n",
    "            'color': '#cbcfd6',\n",
    "            'line': {\n",
    "              'color': 'rgb(0, 0, 0)',\n",
    "              'width': 2\n",
    "            }\n",
    "          }\n",
    "        }],\n",
    "        'name': str(year)\n",
    "        }\n",
    "    figure['frames'].append(frame)\n",
    "\n",
    "    slider_step = {\n",
    "      'args': [\n",
    "        [year],\n",
    "        {\n",
    "          'frame': {\n",
    "            'duration': 300,\n",
    "            'redraw': True\n",
    "          },\n",
    "          'mode': 'immediate',\n",
    "          'transition': {\n",
    "            'duration': 300\n",
    "          }\n",
    "        }\n",
    "      ],\n",
    "      'label': year,\n",
    "      'method': 'animate'\n",
    "    }\n",
    "    sliders_dict['steps'].append(slider_step)\n",
    "\n",
    "figure['layout']['sliders'] = [sliders_dict]\n",
    "\n",
    "iplot(figure)"
   ]
  },
  {
   "cell_type": "code",
   "execution_count": null,
   "metadata": {},
   "outputs": [],
   "source": []
  }
 ],
 "metadata": {
  "kernelspec": {
   "display_name": "Python 3",
   "language": "python",
   "name": "python3"
  },
  "language_info": {
   "codemirror_mode": {
    "name": "ipython",
    "version": 3
   },
   "file_extension": ".py",
   "mimetype": "text/x-python",
   "name": "python",
   "nbconvert_exporter": "python",
   "pygments_lexer": "ipython3",
   "version": "3.6.5"
  }
 },
 "nbformat": 4,
 "nbformat_minor": 2
}
