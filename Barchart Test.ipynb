{
 "cells": [
  {
   "cell_type": "code",
   "execution_count": 38,
   "metadata": {},
   "outputs": [
    {
     "data": {
      "text/html": [
       "<script type=\"text/javascript\">window.PlotlyConfig = {MathJaxConfig: 'local'};</script><script type=\"text/javascript\">if (window.MathJax) {MathJax.Hub.Config({SVG: {font: \"STIX-Web\"}});}</script><script>requirejs.config({paths: { 'plotly': ['https://cdn.plot.ly/plotly-latest.min']},});if(!window._Plotly) {require(['plotly'],function(plotly) {window._Plotly=plotly;});}</script>"
      ],
      "text/vnd.plotly.v1+html": [
       "<script type=\"text/javascript\">window.PlotlyConfig = {MathJaxConfig: 'local'};</script><script type=\"text/javascript\">if (window.MathJax) {MathJax.Hub.Config({SVG: {font: \"STIX-Web\"}});}</script><script>requirejs.config({paths: { 'plotly': ['https://cdn.plot.ly/plotly-latest.min']},});if(!window._Plotly) {require(['plotly'],function(plotly) {window._Plotly=plotly;});}</script>"
      ]
     },
     "metadata": {},
     "output_type": "display_data"
    },
    {
     "data": {
      "application/vnd.plotly.v1+json": {
       "config": {
        "linkText": "Export to plot.ly",
        "plotlyServerURL": "https://plot.ly",
        "showLink": false
       },
       "data": [
        {
         "type": "bar",
         "uid": "92341e24-8fdd-4117-85e5-9abeaa1d5b32",
         "x": [
          "A",
          "B",
          "C",
          "D"
         ],
         "y": [
          0,
          0,
          0,
          1
         ]
        }
       ],
       "frames": [
        {
         "data": [
          {
           "type": "bar",
           "x": [
            "A",
            "B",
            "C",
            "D"
           ],
           "y": [
            0,
            0,
            0,
            1
           ]
          }
         ],
         "name": "2010"
        },
        {
         "data": [
          {
           "type": "bar",
           "x": [
            "A",
            "B",
            "C",
            "D"
           ],
           "y": [
            0,
            0,
            1,
            1
           ]
          }
         ],
         "name": "2011"
        },
        {
         "data": [
          {
           "type": "bar",
           "x": [
            "A",
            "B",
            "C",
            "D"
           ],
           "y": [
            0,
            1,
            0,
            1
           ]
          }
         ],
         "name": "2012"
        }
       ],
       "layout": {
        "hovermode": "closest",
        "sliders": [
         {
          "active": 0,
          "currentvalue": {
           "font": {
            "size": 20
           },
           "prefix": "Year:",
           "visible": true,
           "xanchor": "right"
          },
          "len": 0.9,
          "pad": {
           "b": 10,
           "t": 50
          },
          "steps": [
           {
            "args": [
             [
              "2010"
             ],
             {
              "frame": {
               "duration": 300,
               "redraw": true
              },
              "mode": "immediate",
              "transition": {
               "duration": 300
              }
             }
            ],
            "label": "2010",
            "method": "animate"
           },
           {
            "args": [
             [
              "2011"
             ],
             {
              "frame": {
               "duration": 300,
               "redraw": true
              },
              "mode": "immediate",
              "transition": {
               "duration": 300
              }
             }
            ],
            "label": "2011",
            "method": "animate"
           },
           {
            "args": [
             [
              "2012"
             ],
             {
              "frame": {
               "duration": 300,
               "redraw": true
              },
              "mode": "immediate",
              "transition": {
               "duration": 300
              }
             }
            ],
            "label": "2012",
            "method": "animate"
           }
          ],
          "transition": {
           "duration": 300,
           "easing": "cubic-in-out"
          },
          "x": 0.1,
          "xanchor": "left",
          "y": 0,
          "yanchor": "top"
         }
        ],
        "title": {
         "text": "Brewdog Hop Choice per Year"
        },
        "updatemenus": [
         {
          "buttons": [
           {
            "args": [
             null,
             {
              "frame": {
               "duration": 500,
               "redraw": true
              },
              "fromcurrent": true,
              "transition": {
               "duration": 300,
               "easing": "quadratic-in-out"
              }
             }
            ],
            "label": "Play",
            "method": "animate"
           },
           {
            "args": [
             null,
             {
              "frame": {
               "duration": 0,
               "redraw": true
              },
              "fromcurrent": true,
              "mode": "immediate",
              "transition": {
               "duration": 0
              }
             }
            ],
            "label": "Pause",
            "method": "animate"
           }
          ],
          "direction": "left",
          "pad": {
           "r": 10,
           "t": 87
          },
          "showactive": false,
          "type": "buttons",
          "x": 0.1,
          "xanchor": "right",
          "y": 0,
          "yanchor": "top"
         }
        ],
        "xaxis": {
         "autorange": false,
         "gridcolor": "#FFFFFF",
         "title": {
          "text": "Hop"
         },
         "zeroline": false
        },
        "yaxis": {
         "autorange": false,
         "gridcolor": "#FFFFFF",
         "range": [
          0,
          5
         ],
         "title": {
          "text": "Number of Times in a Brew"
         }
        }
       }
      },
      "text/html": [
       "<div id=\"4e29d865-5ce7-4f06-82ac-e096cd46dbd7\" style=\"height: 525px; width: 100%;\" class=\"plotly-graph-div\"></div><script type=\"text/javascript\">require([\"plotly\"], function(Plotly) { window.PLOTLYENV=window.PLOTLYENV || {};window.PLOTLYENV.BASE_URL=\"https://plot.ly\";\n",
       "        Plotly.plot(\n",
       "            '4e29d865-5ce7-4f06-82ac-e096cd46dbd7',\n",
       "            [{\"x\": [\"A\", \"B\", \"C\", \"D\"], \"y\": [0, 0, 0, 1], \"type\": \"bar\", \"uid\": \"5d6bc53d-2fb5-4c8f-94e2-1211a672bca7\"}],\n",
       "            {\"hovermode\": \"closest\", \"sliders\": [{\"active\": 0, \"currentvalue\": {\"font\": {\"size\": 20}, \"prefix\": \"Year:\", \"visible\": true, \"xanchor\": \"right\"}, \"len\": 0.9, \"pad\": {\"b\": 10, \"t\": 50}, \"steps\": [{\"args\": [[\"2010\"], {\"frame\": {\"duration\": 300, \"redraw\": true}, \"mode\": \"immediate\", \"transition\": {\"duration\": 300}}], \"label\": \"2010\", \"method\": \"animate\"}, {\"args\": [[\"2011\"], {\"frame\": {\"duration\": 300, \"redraw\": true}, \"mode\": \"immediate\", \"transition\": {\"duration\": 300}}], \"label\": \"2011\", \"method\": \"animate\"}, {\"args\": [[\"2012\"], {\"frame\": {\"duration\": 300, \"redraw\": true}, \"mode\": \"immediate\", \"transition\": {\"duration\": 300}}], \"label\": \"2012\", \"method\": \"animate\"}], \"transition\": {\"duration\": 300, \"easing\": \"cubic-in-out\"}, \"x\": 0.1, \"xanchor\": \"left\", \"y\": 0, \"yanchor\": \"top\"}], \"title\": {\"text\": \"Brewdog Hop Choice per Year\"}, \"updatemenus\": [{\"buttons\": [{\"args\": [null, {\"frame\": {\"duration\": 500, \"redraw\": true}, \"fromcurrent\": true, \"transition\": {\"duration\": 300, \"easing\": \"quadratic-in-out\"}}], \"label\": \"Play\", \"method\": \"animate\"}, {\"args\": [null, {\"frame\": {\"duration\": 0, \"redraw\": true}, \"fromcurrent\": true, \"mode\": \"immediate\", \"transition\": {\"duration\": 0}}], \"label\": \"Pause\", \"method\": \"animate\"}], \"direction\": \"left\", \"pad\": {\"r\": 10, \"t\": 87}, \"showactive\": false, \"type\": \"buttons\", \"x\": 0.1, \"xanchor\": \"right\", \"y\": 0, \"yanchor\": \"top\"}], \"xaxis\": {\"autorange\": false, \"gridcolor\": \"#FFFFFF\", \"title\": {\"text\": \"Hop\"}, \"zeroline\": false}, \"yaxis\": {\"autorange\": false, \"gridcolor\": \"#FFFFFF\", \"range\": [0, 5], \"title\": {\"text\": \"Number of Times in a Brew\"}}},\n",
       "            {\"showLink\": false, \"linkText\": \"Export to plot.ly\", \"plotlyServerURL\": \"https://plot.ly\"}\n",
       "        ).then(function () {return Plotly.addFrames('4e29d865-5ce7-4f06-82ac-e096cd46dbd7',[{\"data\": [{\"x\": [\"A\", \"B\", \"C\", \"D\"], \"y\": [0, 0, 0, 1], \"type\": \"bar\"}], \"name\": \"2010\"}, {\"data\": [{\"x\": [\"A\", \"B\", \"C\", \"D\"], \"y\": [0, 0, 1, 1], \"type\": \"bar\"}], \"name\": \"2011\"}, {\"data\": [{\"x\": [\"A\", \"B\", \"C\", \"D\"], \"y\": [0, 1, 0, 1], \"type\": \"bar\"}], \"name\": \"2012\"}]);}).then(function(){Plotly.animate('4e29d865-5ce7-4f06-82ac-e096cd46dbd7');})\n",
       "        });</script><script type=\"text/javascript\">window.addEventListener(\"resize\", function(){window._Plotly.Plots.resize(document.getElementById(\"4e29d865-5ce7-4f06-82ac-e096cd46dbd7\"));});</script>"
      ],
      "text/vnd.plotly.v1+html": [
       "<div id=\"4e29d865-5ce7-4f06-82ac-e096cd46dbd7\" style=\"height: 525px; width: 100%;\" class=\"plotly-graph-div\"></div><script type=\"text/javascript\">require([\"plotly\"], function(Plotly) { window.PLOTLYENV=window.PLOTLYENV || {};window.PLOTLYENV.BASE_URL=\"https://plot.ly\";\n",
       "        Plotly.plot(\n",
       "            '4e29d865-5ce7-4f06-82ac-e096cd46dbd7',\n",
       "            [{\"x\": [\"A\", \"B\", \"C\", \"D\"], \"y\": [0, 0, 0, 1], \"type\": \"bar\", \"uid\": \"5d6bc53d-2fb5-4c8f-94e2-1211a672bca7\"}],\n",
       "            {\"hovermode\": \"closest\", \"sliders\": [{\"active\": 0, \"currentvalue\": {\"font\": {\"size\": 20}, \"prefix\": \"Year:\", \"visible\": true, \"xanchor\": \"right\"}, \"len\": 0.9, \"pad\": {\"b\": 10, \"t\": 50}, \"steps\": [{\"args\": [[\"2010\"], {\"frame\": {\"duration\": 300, \"redraw\": true}, \"mode\": \"immediate\", \"transition\": {\"duration\": 300}}], \"label\": \"2010\", \"method\": \"animate\"}, {\"args\": [[\"2011\"], {\"frame\": {\"duration\": 300, \"redraw\": true}, \"mode\": \"immediate\", \"transition\": {\"duration\": 300}}], \"label\": \"2011\", \"method\": \"animate\"}, {\"args\": [[\"2012\"], {\"frame\": {\"duration\": 300, \"redraw\": true}, \"mode\": \"immediate\", \"transition\": {\"duration\": 300}}], \"label\": \"2012\", \"method\": \"animate\"}], \"transition\": {\"duration\": 300, \"easing\": \"cubic-in-out\"}, \"x\": 0.1, \"xanchor\": \"left\", \"y\": 0, \"yanchor\": \"top\"}], \"title\": {\"text\": \"Brewdog Hop Choice per Year\"}, \"updatemenus\": [{\"buttons\": [{\"args\": [null, {\"frame\": {\"duration\": 500, \"redraw\": true}, \"fromcurrent\": true, \"transition\": {\"duration\": 300, \"easing\": \"quadratic-in-out\"}}], \"label\": \"Play\", \"method\": \"animate\"}, {\"args\": [null, {\"frame\": {\"duration\": 0, \"redraw\": true}, \"fromcurrent\": true, \"mode\": \"immediate\", \"transition\": {\"duration\": 0}}], \"label\": \"Pause\", \"method\": \"animate\"}], \"direction\": \"left\", \"pad\": {\"r\": 10, \"t\": 87}, \"showactive\": false, \"type\": \"buttons\", \"x\": 0.1, \"xanchor\": \"right\", \"y\": 0, \"yanchor\": \"top\"}], \"xaxis\": {\"autorange\": false, \"gridcolor\": \"#FFFFFF\", \"title\": {\"text\": \"Hop\"}, \"zeroline\": false}, \"yaxis\": {\"autorange\": false, \"gridcolor\": \"#FFFFFF\", \"range\": [0, 5], \"title\": {\"text\": \"Number of Times in a Brew\"}}},\n",
       "            {\"showLink\": false, \"linkText\": \"Export to plot.ly\", \"plotlyServerURL\": \"https://plot.ly\"}\n",
       "        ).then(function () {return Plotly.addFrames('4e29d865-5ce7-4f06-82ac-e096cd46dbd7',[{\"data\": [{\"x\": [\"A\", \"B\", \"C\", \"D\"], \"y\": [0, 0, 0, 1], \"type\": \"bar\"}], \"name\": \"2010\"}, {\"data\": [{\"x\": [\"A\", \"B\", \"C\", \"D\"], \"y\": [0, 0, 1, 1], \"type\": \"bar\"}], \"name\": \"2011\"}, {\"data\": [{\"x\": [\"A\", \"B\", \"C\", \"D\"], \"y\": [0, 1, 0, 1], \"type\": \"bar\"}], \"name\": \"2012\"}]);}).then(function(){Plotly.animate('4e29d865-5ce7-4f06-82ac-e096cd46dbd7');})\n",
       "        });</script><script type=\"text/javascript\">window.addEventListener(\"resize\", function(){window._Plotly.Plots.resize(document.getElementById(\"4e29d865-5ce7-4f06-82ac-e096cd46dbd7\"));});</script>"
      ]
     },
     "metadata": {},
     "output_type": "display_data"
    }
   ],
   "source": [
    "from plotly.offline import init_notebook_mode, iplot\n",
    "from IPython.display import display, HTML\n",
    "\n",
    "init_notebook_mode(connected = True)\n",
    "\n",
    "years = ['2010', '2011', '2012']\n",
    "hops = ['A','B','C','D']\n",
    "count = [[0,0,0,1],[0,0,1,1],[0,1,0,1]]\n",
    "\n",
    "figure = {\n",
    "    'data': [{\n",
    "        'type': 'bar',\n",
    "        'x': hops,\n",
    "        'y': count[0]\n",
    "    }],\n",
    "    'layout': {\n",
    "        'title' : 'Brewdog Choice of Hops in a Brew Per Year',\n",
    "        'xaxis': {\n",
    "            'title': 'Hop',\n",
    "            'gridcolor': '#FFFFFF',\n",
    "            'zeroline': False,\n",
    "            'autorange': False\n",
    "        },\n",
    "        'yaxis': {\n",
    "            'title': 'Number of Times in a Brew',\n",
    "            'gridcolor': '#FFFFFF',\n",
    "            'range': [0, 5],\n",
    "            'autorange': False\n",
    "        },\n",
    "        'title': 'Brewdog Hop Choice per Year',\n",
    "        'hovermode': 'closest',\n",
    "        'updatemenus': [{\n",
    "            'type': 'buttons',\n",
    "            'buttons': [{\n",
    "                'label': 'Play',\n",
    "                'method': 'animate',\n",
    "                'args': [None, {\n",
    "                    'frame': {\n",
    "                        'duration': 500,\n",
    "                        'redraw': True\n",
    "                    },\n",
    "                    'fromcurrent': True,\n",
    "                    'transition': {\n",
    "                        'duration': 300,\n",
    "                        'easing': 'quadratic-in-out'\n",
    "                    }\n",
    "                }]\n",
    "            },\n",
    "            {\n",
    "                'label': 'Pause',\n",
    "                'method': 'animate',\n",
    "                'args': [None, {\n",
    "                    'frame': {\n",
    "                        'duration': 0,\n",
    "                        'redraw': True\n",
    "                    },\n",
    "                    'fromcurrent': True,\n",
    "                    'mode': 'immediate',\n",
    "                    'transition': {\n",
    "                        'duration': 0\n",
    "                    }\n",
    "                }]\n",
    "            }],\n",
    "            'direction': 'left',\n",
    "            'pad': {\n",
    "                'r': 10,\n",
    "                't': 87\n",
    "            },\n",
    "            'showactive': False,\n",
    "            'type': 'buttons',\n",
    "            'x': 0.1,\n",
    "            'xanchor': 'right',\n",
    "            'y': 0,\n",
    "            'yanchor': 'top'\n",
    "        }]\n",
    "    },\n",
    "    'frames': []\n",
    "}\n",
    "\n",
    "sliders_dict = {\n",
    "    'active': 0,\n",
    "    'yanchor': 'top',\n",
    "    'xanchor': 'left',\n",
    "    'currentvalue': {\n",
    "        'font': {'size': 20},\n",
    "        'prefix': 'Year:',\n",
    "        'visible': True,\n",
    "        'xanchor': 'right'\n",
    "    },\n",
    "    'transition': {'duration': 300, 'easing': 'cubic-in-out'},\n",
    "    'pad': {'b': 10, 't': 50},\n",
    "    'len': 0.9,\n",
    "    'x': 0.1,\n",
    "    'y': 0,\n",
    "    'steps': []\n",
    "}\n",
    "\n",
    "\n",
    "for index, year in enumerate(years):\n",
    "    \n",
    "    frame = {'data': [{'type': 'bar', 'x': hops,'y':count[index] }], 'name': str(year)}\n",
    "    figure['frames'].append(frame)\n",
    "    \n",
    "    slider_step = {'args': [\n",
    "        [year],\n",
    "        {'frame': {'duration': 300, 'redraw': True},\n",
    "         'mode': 'immediate',\n",
    "       'transition': {'duration': 300}}\n",
    "     ],\n",
    "     'label': year,\n",
    "     'method': 'animate'}\n",
    "    sliders_dict['steps'].append(slider_step)\n",
    "    \n",
    "figure['layout']['sliders'] = [sliders_dict]\n",
    "\n",
    "iplot(figure)"
   ]
  },
  {
   "cell_type": "code",
   "execution_count": null,
   "metadata": {},
   "outputs": [],
   "source": []
  }
 ],
 "metadata": {
  "kernelspec": {
   "display_name": "Python 3",
   "language": "python",
   "name": "python3"
  },
  "language_info": {
   "codemirror_mode": {
    "name": "ipython",
    "version": 3
   },
   "file_extension": ".py",
   "mimetype": "text/x-python",
   "name": "python",
   "nbconvert_exporter": "python",
   "pygments_lexer": "ipython3",
   "version": "3.6.5"
  }
 },
 "nbformat": 4,
 "nbformat_minor": 2
}
